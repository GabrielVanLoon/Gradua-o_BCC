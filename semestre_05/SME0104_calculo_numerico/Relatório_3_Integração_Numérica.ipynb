{
  "nbformat": 4,
  "nbformat_minor": 0,
  "metadata": {
    "colab": {
      "name": "Relatório 3 - Integração Numérica.ipynb",
      "provenance": [],
      "collapsed_sections": []
    },
    "kernelspec": {
      "name": "python3",
      "display_name": "Python 3"
    }
  },
  "cells": [
    {
      "cell_type": "markdown",
      "metadata": {
        "id": "YOmNp_39aHeu"
      },
      "source": [
        "# **Relatório 03 - Métodos de Integração Numérica**\n",
        "##### **Gabriel van Loon Bodê da Costa Dourado Fuentes Rojas**\n",
        "##### **SME0104 - Cálculo Numérico**\n",
        "##### **Docente: Cynthia de Oliveira Lage Ferreira** "
      ]
    },
    {
      "cell_type": "code",
      "metadata": {
        "id": "fMvMpOf-Zuwf",
        "outputId": "a9106cf8-45ae-4c21-d7a2-c9691e5a2d36",
        "colab": {
          "base_uri": "https://localhost:8080/",
          "height": 74
        }
      },
      "source": [
        "import numpy as np\n",
        "import pandas as pd\n",
        "import matplotlib.pyplot as plt\n",
        "import scipy.integrate as integrate\n",
        "import math\n",
        "import seaborn as sns\n",
        "sns.set_style(\"whitegrid\")\n",
        "%matplotlib inline"
      ],
      "execution_count": null,
      "outputs": [
        {
          "output_type": "stream",
          "text": [
            "/usr/local/lib/python3.6/dist-packages/statsmodels/tools/_testing.py:19: FutureWarning: pandas.util.testing is deprecated. Use the functions in the public API at pandas.testing instead.\n",
            "  import pandas.util.testing as tm\n"
          ],
          "name": "stderr"
        }
      ]
    },
    {
      "cell_type": "markdown",
      "metadata": {
        "id": "paH1vLGrs6l7"
      },
      "source": [
        "# **Resumo do Relatório**\n",
        "\n",
        "Neste relatório iremos implementar os métodos de integração numérica visto em aula e comparar seus resultados ao integrar diferentes tipos de funções. Primeiramente iremos criar todos os métodos, relembrando um pouco de seus embasamentos teóricos para, em seguida, darmos prosseguimentos às comparações.\n"
      ]
    },
    {
      "cell_type": "markdown",
      "metadata": {
        "id": "qcAhuIWntlO3"
      },
      "source": [
        "# **Método: Regra do Ponto Médio**\n",
        "\n",
        "A regra do ponto médio é um método simples em que, dado uma $f(x)$ **conhecida** e contínua no intervalo $[a,b] \\in \\mathbb{R}$, podemos calcular a integral dividindo $[a,b]$ em $N$ intervalos de mesmo comprimento $h$ e tal que $x_0 = a$ e $x_n = b$. \n",
        "\n",
        "Feito isso, para cada segmento $x_i$, $x_{i+1}$, calculamos o ponto médio $\\bar x = \\dfrac{x_i + x_{i+1}}{2}$ e somamos à área do retângulo formado por $S_i = \\bar x \\times h$ ao valor total da integral.\n",
        "\n",
        "A seguir temos uma implementação da regra do ponto médio `integral_ponto_medio` em que o usuário informa a $f(x)$, o intervalo $[a,b]$ e em quantos segmentos $N$ pretende dividir o intervalo.\n"
      ]
    },
    {
      "cell_type": "code",
      "metadata": {
        "id": "CPPk64JnbNNp"
      },
      "source": [
        "def integral_ponto_medio(f,a,b,N):\n",
        "  x = np.linspace(a,b,N+1);\n",
        "  x = (x[:-1] + x[1:])/2\n",
        "  h  = x[1] - x[0]\n",
        "  return np.sum(np.vectorize(f)(x)) * h"
      ],
      "execution_count": null,
      "outputs": []
    },
    {
      "cell_type": "markdown",
      "metadata": {
        "id": "hDiFV3EoxFBt"
      },
      "source": [
        "# **Fórmulas de Newton-Cotes**\n",
        "\n",
        "Seja uma $f(x)$ conhecida OU um conjunto $X$ formato por $(N+1)$ pontos igualmente espaçados tais que $X = \\{ (x_0,y_0), (x_1,y_1), ..., (x_n,y_n) \\}$, queremos calcular a integral de $f$ no intervalo $[x_0, x_n] = [a,b]$ por meio de uma aproximação de $f(x)$ com um polinômio $P_n(x)$. Ou seja:\n",
        "\n",
        "\\begin{equation}\n",
        "\\int_{a}^{b} f(x)dx = \\int_{x_0}^{x_n} f(x)dx \n",
        "\\approx  \\int_{x_0}^{x_n} P_n(x) dx = \\sum_{k=0}^{n} y_k \\int_{x_0}^{x_n} l_k(x) dx\n",
        "\\end{equation}\n",
        "\n",
        "O polinômio $P_n$ será obtido por meio de uma interpolação polinomial utilizando a forma de Lagrange e é dado por:\n",
        "\n",
        "\\begin{equation} \n",
        "P_n(x) = \\sum_{k=0}^{n} y_k l_k(x)\n",
        "\\end{equation}\n",
        "\n",
        "\\begin{equation} \n",
        "l_k(x) = \\prod_{j = 0,\\space j \\neq k}^{n} \\dfrac{x-x_j}{x_k-x_j}\n",
        "\\end{equation}\n",
        "\n",
        "O método, no entanto, utiliza uma mudança de variáveis para que o avanço dos pontos se dê de uma forma discreta. Fazendo então:\n",
        "\n",
        "\\begin{equation}\n",
        "x = x_0 + ht \\Rightarrow dx = hdt \\\\\n",
        "x = x_0, t=0 \\\\\n",
        "x = x_n, t=n \n",
        "\\end{equation}\n",
        "\n",
        "Ajustando $P_n$ para a nova variável, teremos então os seguintes ajustes na fórmula de $P_n(x)$ e $l_k(x)$.\n",
        "\n",
        "\\begin{equation} \n",
        "P_n(x_0 + ht) = \\sum_{k=0}^{n} y_k l_k(x_0 + ht) = \\sum_{k=0}^{n} y_k \\prod_{j = 0,\\space j \\neq k}^{n} \\dfrac{(x_0 + ht)-(x_0 + hj)}{(x_0 + hk)-(x_0 + hj)}\n",
        "\\end{equation}\n",
        "\n",
        "\\begin{equation} \n",
        "l_k(x+0 + ht) = \\lambda_k(t) = \\prod_{j = 0,\\space j \\neq k}^{n} \\dfrac{t-j}{k-j} \n",
        "\\end{equation}\n",
        "\n",
        "No fim, nossa fórmula de Newton-Cotes será a seguinte:\n",
        "\n",
        "\\begin{equation} \n",
        "\\int_{x_0}^{x_n} f(x)dx \\approx \\sum_{k=0}^{n} y_k h \\int_{0}^{n} \\lambda_k(t) dt = \\sum_{k=0}^{n} y_k h C_k^n \n",
        "\\end{equation}\n",
        "\n",
        "em que $C_k^n$ representa a integral $\\int_{0}^{n} \\lambda_k(t) dt$ que irá variar conforme alteramos o grau do polinômio $n$ que queremos usar de aproximação para $f$.\n"
      ]
    },
    {
      "cell_type": "markdown",
      "metadata": {
        "id": "gu10ZXQz7Xe_"
      },
      "source": [
        "# **Regra do Trapézio (Newton-Cotes com $n$ = 1)**\n",
        "\n",
        "Aproximando $f(x)$ por um polinômio de grau $1$, teremos os seguintes resultados\n",
        "\n",
        "\\begin{equation} \n",
        "\\int_{x_0}^{x_1} f(x)dx \\approx = \\sum_{k=0}^{1} y_k h C_k^1 = y_0 h C_0^1 + y_1 h C_1^1 \n",
        "\\end{equation}\n",
        "\n",
        "\\begin{equation} \n",
        "C_0^1 = \\int_{0}^{n} \\lambda_0(t) dt = \\int_{0}^{n} \\dfrac{(t-1)}{0-1} dt = \\dfrac{1}{2} \\\\\n",
        "C_1^1 = \\int_{0}^{n} \\lambda_1(t) dt = \\int_{0}^{n} \\dfrac{(t-0)}{1-0} dt = \\dfrac{1}{2} \\\\\n",
        "\\\\\n",
        "\\Rightarrow \\int_{x_0}^{x_1} f(x)dx \\approx \\dfrac{h}{2}(y_0 + y_1)\n",
        "\\end{equation}\n",
        "\n",
        "Teremos portanto, que a aproximação de $f(x)$ no intervalo $[x_a,x_b]$ por um polinômio de grau 1 pode ser dada pela área do trapézio dada pela equação $\\dfrac{h}{2}(f(x_a) + f(x_b))$.\n",
        "\n",
        "Podemos, portanto, separar $[a,b]$ em $N$ segmentos de tamanho $h$ e calcular a integral somando as áreas dos trapézios em cada intervalo. O método a seguir (`integral_NC_trapezio`) implementa o que foi visto até aqui."
      ]
    },
    {
      "cell_type": "code",
      "metadata": {
        "id": "C24D7HmteMXB"
      },
      "source": [
        "def integral_NC_trapezio(f,a,b,N):\n",
        "  f_vec = np.vectorize(f)\n",
        "  x  = np.linspace(a,b,N+1);\n",
        "  y  = f_vec(x)\n",
        "  h  = x[1] - x[0]\n",
        "\n",
        "  return np.sum( ((y[:-1] + y[1:]) * h / 2) )"
      ],
      "execution_count": null,
      "outputs": []
    },
    {
      "cell_type": "markdown",
      "metadata": {
        "id": "jK8VQ-Mx_4SI"
      },
      "source": [
        "# **Regra do 1/3 de Simpson (Newton-Cotes com $n$ = 2)$**\n",
        "\n",
        "Análogo ao método do trapézio, podemos aproximar $f$ em um intervalo $[x_0,x_2]$ com um polinômio de grau 2, gerando então a seguinte fórmula para ser resolvida:\n",
        "\n",
        "\\begin{equation}  \n",
        "\\int_{x_0}^{x_2} f(x)dx \\approx = \\sum_{k=0}^{2} y_k h C_k^1 = y_0 h C_0^2 + y_1 h C_1^2 + y_2 h C_2^2\n",
        "\\end{equation}\n",
        "\n",
        "Fazendo o mesmo processo de cálculo das integrais $C_k^2$ iremos chegar na respectiva fórmula:\n",
        "\n",
        "\\begin{equation}  \n",
        "\\int_{x_0}^{x_2} f(x)dx \\approx = \\dfrac{h}{3}(y_0 + 4y_1 + y_2)\n",
        "\\end{equation}\n",
        "\n",
        "Assim como no modo anterior, esse método irá aproximar $f(x)$ por um polinômio que passa pelos três pontos $y_0$, $y_1$ e $y_2$ e permitindo calcular a integral de $f(x)$ ao separar $[a,b]$ em $N$ segmentos de $3$ em $3$ pontos, somando os resultados obtidos no valor total da integral. \n"
      ]
    },
    {
      "cell_type": "code",
      "metadata": {
        "id": "bZpWxKXkgFAL"
      },
      "source": [
        "def integral_NC_1_3_Simpson(f,a,b,N):\n",
        "  f_vec = np.vectorize(f)\n",
        "  x  = np.linspace(a,b,2*N+1);\n",
        "  y  = f_vec(x)\n",
        "  h  = x[1] - x[0]\n",
        "\n",
        "  integral = 0.0\n",
        "  i        = 0\n",
        "  while i < (2*N):\n",
        "    integral += (h / 3) * (y[i] + 4*y[i+1] + y[i+2])\n",
        "    i        += 2 \n",
        "  return integral"
      ],
      "execution_count": null,
      "outputs": []
    },
    {
      "cell_type": "markdown",
      "metadata": {
        "id": "Whl1VtxFCAu0"
      },
      "source": [
        "# **Regra do 3/8 de Simpson (Newton-Cotes com $n = 3$)**\n",
        "\n",
        "Novamente igual ao trapézio, estamos aproximando $f(x)$ por um polinômio com grau $3$ e separando em $N$ seguimentos contendo $4$ pontos $x_i$ em cada.\n",
        "\n",
        "\\begin{equation}  \n",
        "\\int_{x_0}^{x_3} f(x)dx \\approx = \\dfrac{3h}{8}(y_0 + 3y_1 + 3y_2 + y_3)\n",
        "\\end{equation}\n"
      ]
    },
    {
      "cell_type": "code",
      "metadata": {
        "id": "pCqM6VzUj5-s"
      },
      "source": [
        "def integral_NC_3_8_Simpson(f,a,b,N):\n",
        "  f_vec = np.vectorize(f)\n",
        "  x  = np.linspace(a,b,3*N+1);\n",
        "  y  = f_vec(x)\n",
        "  h  = x[1] - x[0]\n",
        "\n",
        "  integral = 0.0\n",
        "  i        = 0\n",
        "  while i < (3*N):\n",
        "    integral += (3*h/8) * (y[i] + 3*y[i+1] + 3*y[i+2] + y[i+3])\n",
        "    i        += 3\n",
        "  return integral"
      ],
      "execution_count": null,
      "outputs": []
    },
    {
      "cell_type": "markdown",
      "metadata": {
        "id": "_rkdGsGVD54n"
      },
      "source": [
        "**Obs:** Nas situações em que há apenas o conjunto de dados e não se sabe a função $f(x)$, é necessário que os pontos sejam espaçados igualmente e, ao utilizar métodos com $n > 1$, é necessário garantir também que a quantidade de dados tenha a multiplicidade correta para que todos os segmentos tenham a quantidade necessária de pontos (*Ex: 1/3 Simpson necessita de $2N+1$ pontos*).\n",
        "\n",
        "A seguir temos o teste das funções acima em alguns polinômios e comparámos com a função de integração da biblioteca `scipy.integrate`"
      ]
    },
    {
      "cell_type": "code",
      "metadata": {
        "id": "4OnMRoZ8eKtL"
      },
      "source": [
        "def teste_metodos(f,a,b,N):\n",
        "  best = integrate.quad(f,a,b)[0]\n",
        "  ponto_medio = integral_ponto_medio(f,a=a,b=b,N=N)\n",
        "  NC_trapezio = integral_NC_trapezio(f,a=a,b=b,N=N)\n",
        "  NC_1_3 = integral_NC_1_3_Simpson(f,a=a,b=b,N=N)\n",
        "  NC_3_8 = integral_NC_3_8_Simpson(f,a=a,b=b,N=N)\n",
        "\n",
        "  print(\"scipy.int:\\t{:.6f}\\tErro:\\t{:.8f}\".format(best, 0.0) )\n",
        "  print(\"ponto médio:\\t{:.6f}\\tErro:\\t{:.8f}\".format(ponto_medio, abs(ponto_medio - best)))\n",
        "  print(\"trapézios:\\t{:.6f}\\tErro:\\t{:.8f}\".format(NC_trapezio, abs(NC_trapezio - best)))\n",
        "  print(\"1/3 Simpson:\\t{:.6f}\\tErro:\\t{:.8f}\".format(NC_1_3, abs(NC_1_3 - best)))\n",
        "  print(\"3/8 Simpson:\\t{:.6f}\\tErro:\\t{:.8f}\".format(NC_3_8, abs(NC_3_8 - best)))"
      ],
      "execution_count": null,
      "outputs": []
    },
    {
      "cell_type": "markdown",
      "metadata": {
        "id": "ZyJ0ByJp6_uU"
      },
      "source": [
        "Fazendo: $f(x) = 5x + 5$"
      ]
    },
    {
      "cell_type": "code",
      "metadata": {
        "id": "ZWV2z4pLGxjG",
        "outputId": "b8b68511-d094-484a-f7b9-db04f1a1df17",
        "colab": {
          "base_uri": "https://localhost:8080/",
          "height": 111
        }
      },
      "source": [
        "f = lambda x: 5*x + 5\n",
        "teste_metodos(f,0,10, 10)"
      ],
      "execution_count": null,
      "outputs": [
        {
          "output_type": "stream",
          "text": [
            "scipy.int:\t300.000000\tErro:\t0.00000000\n",
            "ponto médio:\t300.000000\tErro:\t0.00000000\n",
            "trapézios:\t300.000000\tErro:\t0.00000000\n",
            "1/3 Simpson:\t300.000000\tErro:\t0.00000000\n",
            "3/8 Simpson:\t300.000000\tErro:\t0.00000000\n"
          ],
          "name": "stdout"
        }
      ]
    },
    {
      "cell_type": "markdown",
      "metadata": {
        "id": "hBaBkUPD7Ec1"
      },
      "source": [
        "Fazendo: $f(x) = 22x^2 + 3x + 5$"
      ]
    },
    {
      "cell_type": "code",
      "metadata": {
        "id": "jpdgt8P8GzIi",
        "outputId": "fcdaba14-5d5a-48e8-dbcb-276bd4d255f3",
        "colab": {
          "base_uri": "https://localhost:8080/",
          "height": 111
        }
      },
      "source": [
        "f = lambda x: 22*x**2 + 3*x + 5\n",
        "teste_metodos(f,0,10, 10)"
      ],
      "execution_count": null,
      "outputs": [
        {
          "output_type": "stream",
          "text": [
            "scipy.int:\t7533.333333\tErro:\t0.00000000\n",
            "ponto médio:\t7515.000000\tErro:\t18.33333333\n",
            "trapézios:\t7570.000000\tErro:\t36.66666667\n",
            "1/3 Simpson:\t7533.333333\tErro:\t0.00000000\n",
            "3/8 Simpson:\t7533.333333\tErro:\t0.00000000\n"
          ],
          "name": "stdout"
        }
      ]
    },
    {
      "cell_type": "markdown",
      "metadata": {
        "id": "h9zDoJdN7HWD"
      },
      "source": [
        "Fazendo: $f(x) = 12x^3 -6x^2 - 2x + 900$"
      ]
    },
    {
      "cell_type": "code",
      "metadata": {
        "id": "SVJocEr7G8TW",
        "outputId": "dbf59813-5d14-4e73-ab8d-6c61eb544eb2",
        "colab": {
          "base_uri": "https://localhost:8080/",
          "height": 111
        }
      },
      "source": [
        "f = lambda x: 12*x**3 - 6*x**2 - 2*x + 900\n",
        "teste_metodos(f,0,10, 10)"
      ],
      "execution_count": null,
      "outputs": [
        {
          "output_type": "stream",
          "text": [
            "scipy.int:\t36900.000000\tErro:\t0.00000000\n",
            "ponto médio:\t36755.000000\tErro:\t145.00000000\n",
            "trapézios:\t37190.000000\tErro:\t290.00000000\n",
            "1/3 Simpson:\t36900.000000\tErro:\t0.00000000\n",
            "3/8 Simpson:\t36900.000000\tErro:\t0.00000000\n"
          ],
          "name": "stdout"
        }
      ]
    },
    {
      "cell_type": "markdown",
      "metadata": {
        "id": "YCQvfjkS7Otb"
      },
      "source": [
        "Fazendo: $f(x) = xe^x$"
      ]
    },
    {
      "cell_type": "code",
      "metadata": {
        "id": "b0yHyDmNHNjR",
        "outputId": "01a7ffb8-5e58-4806-86eb-6aa73d1d44ff",
        "colab": {
          "base_uri": "https://localhost:8080/",
          "height": 111
        }
      },
      "source": [
        "f = lambda x: x*math.exp(x)\n",
        "teste_metodos(f,0,10, 10)"
      ],
      "execution_count": null,
      "outputs": [
        {
          "output_type": "stream",
          "text": [
            "scipy.int:\t198239.192153\tErro:\t0.00000000\n",
            "ponto médio:\t188481.468677\tErro:\t9757.72347642\n",
            "trapézios:\t218042.964489\tErro:\t19803.77233568\n",
            "1/3 Simpson:\t198335.300614\tErro:\t96.10846095\n",
            "3/8 Simpson:\t198282.069320\tErro:\t42.87716706\n"
          ],
          "name": "stdout"
        }
      ]
    },
    {
      "cell_type": "markdown",
      "metadata": {
        "id": "1jnOR27K7RcQ"
      },
      "source": [
        "Fazendo: $f(x) = xe^x + 12x^3 - 6x^2 -2x + 900$"
      ]
    },
    {
      "cell_type": "code",
      "metadata": {
        "id": "23eh_OQkIBFq",
        "outputId": "1e6986ec-044c-4198-ea9d-8e3dd3f26cf4",
        "colab": {
          "base_uri": "https://localhost:8080/",
          "height": 111
        }
      },
      "source": [
        "f = lambda x: (x*math.exp(x) + 12*x**3 - 6*x**2 - 2*x + 900) / (x+1) \n",
        "teste_metodos(f,0,10, 100)"
      ],
      "execution_count": null,
      "outputs": [
        {
          "output_type": "stream",
          "text": [
            "scipy.int:\t25172.356807\tErro:\t0.00000000\n",
            "ponto médio:\t25163.475856\tErro:\t8.88095053\n",
            "trapézios:\t25190.121389\tErro:\t17.76458264\n",
            "1/3 Simpson:\t25172.357701\tErro:\t0.00089386\n",
            "3/8 Simpson:\t25172.357204\tErro:\t0.00039734\n"
          ],
          "name": "stdout"
        }
      ]
    },
    {
      "cell_type": "markdown",
      "metadata": {
        "id": "RumtOjLx7W37"
      },
      "source": [
        "Fazendo: $f(x) = 44 \\sin(x) + 13 \\cos(x)$"
      ]
    },
    {
      "cell_type": "code",
      "metadata": {
        "id": "UmENFSZmIqsu",
        "outputId": "ed04ac39-0e4e-4c37-94b1-c4ad797c7fa8",
        "colab": {
          "base_uri": "https://localhost:8080/",
          "height": 111
        }
      },
      "source": [
        "f = lambda x: 44 * math.sin(x) + 13 * math.cos(x)\n",
        "teste_metodos(f,0,10, 100)"
      ],
      "execution_count": null,
      "outputs": [
        {
          "output_type": "stream",
          "text": [
            "scipy.int:\t73.846873\tErro:\t0.00000000\n",
            "ponto médio:\t73.877651\tErro:\t0.03077851\n",
            "trapézios:\t73.785324\tErro:\t0.06154932\n",
            "1/3 Simpson:\t73.846875\tErro:\t0.00000256\n",
            "3/8 Simpson:\t73.846874\tErro:\t0.00000114\n"
          ],
          "name": "stdout"
        }
      ]
    },
    {
      "cell_type": "markdown",
      "metadata": {
        "id": "ChoeodEtetjN"
      },
      "source": [
        "Como podemos ver, conforme vamos utilizando polinômios de grau maior como aproximação, mais próximo é o valor da integral calculada de seu valor real. Vamos agora nos aprofundar em um dos métodos que não foi citado em aula mas que visa melhorar ainda mais o cálculo da integral."
      ]
    },
    {
      "cell_type": "markdown",
      "metadata": {
        "id": "OyJK0VzhJZj1"
      },
      "source": [
        "# **Polinômios Ortogonais**\n",
        "\n",
        "Polinômios ortogonais são polinômios da família $\\{ \\varphi_0, \\varphi_1, ..., \\varphi_n\\}$ definidos em um intervalo $[a,b]$ e com **grau$(\\varphi_n) = n$** tal que:\n",
        "\n",
        "\\begin{equation}\n",
        "\\langle \\varphi_i, \\varphi_j \\rangle = \\int_{a}^{b} W(x)[\\varphi_i(x)\\varphi_j(x)] dx = 0, se \\space i \\neq j \n",
        "\\end{equation}\n",
        "\n",
        "Sendo $W(x)$ a função **peso** continua em $[a,b]$ e sempre positiva.\n",
        "\n",
        "Um conjunto de polinômios ortogonais possui as seguintes propriedades:\n",
        "\n",
        "**1)** $\\varphi_n$ é única\n",
        "\n",
        "**2)** Seja $p \\in P_n$, $p$ pode ser escrito como combinação linear dos elementos $\\varphi_i$, pois são $LI$.\n",
        "\n",
        "**3)** Se $p \\in P_m$, com $m < n$, então $\\langle \\varphi_n, p \\rangle = 0$\n",
        "\n",
        "**4)** $\\varphi_n$ possui $n$ raízes distintas dentro do intervalo $[a,b]$"
      ]
    },
    {
      "cell_type": "markdown",
      "metadata": {
        "id": "HVOeRacv5Qm4"
      },
      "source": [
        "# **Polinômios de Lagendre**\n",
        "\n",
        "Os polinômios de lagendre constituem um conjunto de polinômios ortogonais no intervalo $[-1,1]$ e com a função peso $W(x) = 1$. Eles podem ser gerados por meio do **Processo de Ortogonalização de Gran-Schmidt** da base canônica de $P_n$ e possuem as 4 propriedades vistas acima."
      ]
    },
    {
      "cell_type": "markdown",
      "metadata": {
        "id": "8Bm7BBlk6EwW"
      },
      "source": [
        "# **Quadratura de Gauss**\n",
        "\n",
        "A Quadratura de Gauss tem por objetivo discretizar o cálculo da integral de uma $f(x)$ em um número mínimo de pontos de tal forma que esses sejam ótimos e aproximem o resultado obtido do real o máximo possível.\n",
        "\n",
        "Para isso, vamos utilizar a seguinte fórmula:\n",
        "\n",
        "\\begin{equation}\n",
        "I_f = \\int_{a}^{b}f(x)dx \\approx \\sum_{k=0}^{n} w_k f(\\xi_k) \n",
        "\\end{equation}\n",
        "\n",
        "em que $w_k$ são chamados pesos e $\\xi_k$ os nós (pontos ótimos).\n",
        "\n",
        "Para garantir que a equação seja eficiente, queremos que, dado a escolha de $n$, a fórmula seja capaz de calcular com **exatidão** o valor da integral de uma $f \\in P_{2n+1}$.\n",
        "\n"
      ]
    },
    {
      "cell_type": "markdown",
      "metadata": {
        "id": "0N-n-b839mHx"
      },
      "source": [
        "$\\square$ Seja $n=1$ no intervalo $[-1,1]$, teremos então que $\\sum_{k=0}^{1} w_k f(\\xi_k)$ deve ser capaz de calcular com exatidão a integral de uma $f \\in P_3$. Precisamos portanto determinar o valores de $\\xi_k$ e $w_k$ que tornam a igualdade verdadeira.\n",
        "\n",
        "\\begin{equation}\n",
        "f(x) = a_0 + a_1x + a_2x^2 + a_3x^3 \\\\\n",
        "\\int_{1}^{-1}f(x)dx = \\sum_{k=0}^{1} w_k f(\\xi_k) = w_0f(\\xi_0) + w_1f(\\xi_1) \n",
        "\\end{equation}\n",
        "\n",
        "Pela propriedade das integrais, sabemos que:\n",
        "\n",
        "\\begin{equation}\n",
        "\\int_{-1}^{1}f(x)dx = \\int_{-1}^{1}(a_0 + a_1x + a_2x^2 + a_3x^3)dx = a_0\\int_{-1}^{1}1dx + a_1\\int_{-1}^{1}xdx  + a_2\\int_{-1}^{1}x^2dx  + a_3\\int_{-1}^{1}x^3dx \n",
        "\\end{equation}\n",
        "\n",
        "Logo, se houverem $w_0$, $w_1$, $\\xi_0$ e $\\xi_1$ cuja solução seja exata para $f(x)=1$, $f(x) = x$, $f(x) = x^2$ e $f(x) = x^3$ então qualquer $p \\in P_3$ também terá uma solução. Resolvendo o seguinte sistema teremos então:\n",
        "\n",
        "\\begin{cases} \n",
        "w_0 + w_1 = \\int_{-1}^{1} 1dx = 2 \\\\ \n",
        "w_0 \\xi_0 + w_1 \\xi_1 = \\int_{-1}^{1} xdx = 0 \\\\ \n",
        "w_0 \\xi_0^2 + w_1 \\xi_1^2 = \\int_{-1}^{1} x^2dx = 2/3 \\\\ \n",
        "w_0 \\xi_0^3 + w_1 \\xi_1^3 = \\int_{-1}^{1} x^3dx = 0 \\\\ \n",
        "\\end{cases} \n",
        "\n",
        "Cuja solução será dada por $\\{ w_0 = 1, w_1 = 1, \\xi_0 = -1/\\sqrt{3}, \\xi_1 = 1/\\sqrt{3}\\}$\n",
        "\n",
        "Logo, se $f(x)$ for um polinômio de grau$(f) = 2n+1$, existe um conjunto de $n$ pontos capaz de calcular o valor exato de  $f$. \n",
        "\n",
        "Mostramos o caso em que $n = 1$ e um procedimento semelhante pode ser usado para outros valores. Esses casos no entanto irão gerar sistemas ainda maiores e por isso não caberiam nesse contexto."
      ]
    },
    {
      "cell_type": "markdown",
      "metadata": {
        "id": "aBWuxzkBEEoG"
      },
      "source": [
        "# **Quadratura de Gauss-Legendre**\n",
        "\n",
        "Como haviamos visto nas técnicas de Newton-Cotes, as técnicas de integração se resumiam à aproximar uma dada $f(x)$ à um polinômio $p(x) \\in P_m$ utilizando a interpolação polinomial de Lagrange. Sabemos também que a fórmula do erro dessa técnica de interpolação é dada por:\n",
        "\n",
        "\\begin{equation}\n",
        "R_n(x) = f(x) - p(x) = \\dfrac{f^{n+1}(c_x)}{(n+1)!} \\prod_{i=0}^n (x - x_i)\n",
        "\\end{equation}\n",
        "\n",
        "Sendo $\\prod_{i=0}^n (x - x_i)$ as raízes do polinômio $p(x)$ encontrado pela interpolação. \n",
        "\n",
        "Passando a integral de ambos os lados, podemos tirar a fórmula de erro do cálculo da integral por meio da interpolação, tal que\n",
        "\n",
        "\\begin{equation}\n",
        "E(f) = \\int_a^b (f(x) - p(x)) dx = \\int_a^b \\dfrac{f^{n+1}(c_x)}{(n+1)!} \\prod_{i=0}^n (x - x_i)\n",
        "\\end{equation}\n",
        "\n",
        "Supondo que $f$ seja uma função polinomial de grau $m$ . Sabemos, por meio da fórmula acima, que o erro gerado pela interpolação de Lagrange será:\n",
        "\n",
        "**a)** $R_n(x) = 0$, se $m \\leq n$, pois $f^{(n+1)}(c_x) = 0$ \n",
        "\n",
        "**b)** $R_n(x) = \\dfrac{f^{n+1}(c_x)}{(n+1)!} \\prod_{i=0}^n (x - x_i)$, se $m > n$\n",
        "\n",
        "Veja, no entanto, que ao invés de aproximarmos $f(x)$ por um polinômio qualquer, podemos aproximar $f(x)$ usando **Polinômios de Legendre** de grau $n$ e garantir que o cálculo da integral seja exato para polinômios de ordem até $(2n+1)$. Vejamos o porquê a seguir."
      ]
    },
    {
      "cell_type": "markdown",
      "metadata": {
        "id": "FgFnzyYjNcJ1"
      },
      "source": [
        "$\\square$ Seja $f(x)$ um polinômio com **grau$(f) = m$**, iremos aproximar $f$ por um polinômio de Legendre de grau $(n+1$) com as raízes $\\{ \\xi_0, \\xi_1, ..., \\xi_n \\}$ e calcular sua integral no intervalo $[-1,1]$. A forma de $\\varphi_{n+1}(x)$ é dada então por:\n",
        "\n",
        "\\begin{equation}\n",
        "\\varphi_{n+1}(x) = a \\prod_{k=0}^{n}(x - \\xi_k), a \\in \\mathbb{R}\n",
        "\\end{equation}\n",
        "\n",
        "Sabemos que o erro da aproximação de $f$ em $\\varphi_{n+1}$ é dado pela seguinte fórmula:\n",
        "\n",
        "\\begin{equation}\n",
        "E(f) = \\int_{-1}^{1} (f(x) - \\varphi_{n+1}(x))dx =  \n",
        "\\int_{-1}^{1} \\dfrac{f^{(n+1)}(c_x)}{(n+1)!} \\prod_{k=0}^{n}(x - \\xi_k)dx =  \n",
        "\\int_{-1}^{1} \\dfrac{f^{(n+1)}(c_x)}{(n+1)!} \\dfrac{\\varphi_{n+1}(x)}{a} dx \n",
        "\\\\ = a^{-1} \\int_{-1}^{1} \\dfrac{f^{(n+1)}(c_x)}{(n+1)!} \\varphi_{n+1}(x) dx \\space = (*)\n",
        "\\end{equation}\n",
        "\n",
        "Vamos relembrar, no entanto, que a função peso dos polinômios de lagendre é dada por $W(x) = 1$, $\\forall x \\in [-1,1]$ e que a fórmula $(*)$ é um produto vetorial de um espaço de polinômios ortogonais tal que:\n",
        "\n",
        "\\begin{equation}\n",
        "(*) = a^{-1} \\int_{-1}^{1} W(x)\\dfrac{f^{(n+1)}(c_x)}{(n+1)!} \\varphi_{n+1}(x) dx = a^{-1} \\langle \\dfrac{f^{(n+1)}(c_x)}{(n+1)!} , \\varphi_{n+1} \\rangle\n",
        "\\end{equation}\n",
        "\n",
        "Por fim, pela **propriedade 3** dos polinômios ortogonais, teremos que:\n",
        "\n",
        "**a)** Se $m \\leq 2n+1$, então o $grau(f^{(n+1)}) \\leq n$ e, portanto $E(f) = \\langle \\dfrac{f^{(n+1)}(c_x)}{(n+1)!} , \\varphi_{n+1} \\rangle = 0$\n",
        "\n",
        "Logo, enquanto a primeira forma garante uma precisão exata apenas para quando $m \\leq n$, o uso da quadratura de Gauss-Lagendre garante que a aproximação do valor real da integral será melhor e exato para valores de $m \\leq 2n+1$."
      ]
    },
    {
      "cell_type": "markdown",
      "metadata": {
        "id": "AfCbLqAjVKfB"
      },
      "source": [
        "# **Utilizando a Quadratura de Gauss-Legendre**\n",
        "\n",
        "Seja $f(x)$ uma função conhecida, iremos calcular a integral de $f(x)$ no intervalo $[-1,1]$ usando o método da Quadratura de Gauss-Legendre tal que:\n",
        "\n",
        "\\begin{equation}\n",
        "\\int_{-1}^1 f(x)dx \\approx \\sum_{k=0}^{n} w_k f(\\xi_k)\n",
        "\\end{equation}\n",
        "\n",
        "em que $\\xi_k$ são as raízes do polinômio $\\varphi_{n+1}(x)$ escolhido e $w_k$ a integral da interpolação de lagrange de $\\varphi_{n+1}(x)$.\n",
        "\n",
        "\\begin{equation}\n",
        "w_k = \\int_{-1}^1 l_k(x) = \\int_{-1}^1 \\prod_{i=0, \\space i \\neq k}^{n} \\dfrac{(x - \\xi_i)}{\\xi_k - \\xi_i}\n",
        "\\end{equation}\n",
        "\n",
        "No geral, os valores de $w_k$ e $\\xi_k$ são tabelados e podem ser obtidos dado um valor de $n$, como demonstrado na função da biblioteca `numpy` à seguir."
      ]
    },
    {
      "cell_type": "code",
      "metadata": {
        "id": "dgbuZQvPpqv4",
        "outputId": "b52c886f-296f-4e2c-d98b-65325eb94a0d",
        "colab": {
          "base_uri": "https://localhost:8080/",
          "height": 54
        }
      },
      "source": [
        "(points, weights) = np.polynomial.legendre.leggauss(4)\n",
        "print('nós:', points)\n",
        "print('pesos:', weights)"
      ],
      "execution_count": null,
      "outputs": [
        {
          "output_type": "stream",
          "text": [
            "nós: [-0.86113631 -0.33998104  0.33998104  0.86113631]\n",
            "pesos: [0.34785485 0.65214515 0.65214515 0.34785485]\n"
          ],
          "name": "stdout"
        }
      ]
    },
    {
      "cell_type": "markdown",
      "metadata": {
        "id": "2e2yRpzlYeD8"
      },
      "source": [
        "Por fim, caso o intervalo de integração desejado não seja exatamente o intervalo $[-1,1]$, é possível fazer uma transformação no intervalo para que o mesmo se ajuste dentro do segmento $[-1,1]$.\n",
        "\n",
        "A seguir temos a implementão no método `integral_gauss_legendre`."
      ]
    },
    {
      "cell_type": "code",
      "metadata": {
        "id": "MaeyqhaKqJr0"
      },
      "source": [
        "def integral_gauss_legendre(f,a,b,N):\n",
        "  f_vec  = np.vectorize(f)\n",
        "  (p, w) = np.polynomial.legendre.leggauss(N)\n",
        "  \n",
        "  p = ((b-a)*p + a + b)/2\n",
        "  w = (w * (b-a)) / 2\n",
        "  return np.sum(w * f_vec(p))"
      ],
      "execution_count": null,
      "outputs": []
    },
    {
      "cell_type": "markdown",
      "metadata": {
        "id": "j7d29Wh_jV9B"
      },
      "source": [
        "Vamos atualizar nossa função de testes e fazer alguns testes mais simples para depois partirmos para uma bateria de testes mais elaborada em integrais mais complexas."
      ]
    },
    {
      "cell_type": "code",
      "metadata": {
        "id": "l07-JO5GjlMa"
      },
      "source": [
        "def teste_metodos(f,a,b,N_segs,N_legendre = 2):\n",
        "  best = integrate.quad(f,a,b)[0]\n",
        "  ponto_medio = integral_ponto_medio(f,a=a,b=b,N=N_segs)\n",
        "  NC_trapezio = integral_NC_trapezio(f,a=a,b=b,N=N_segs)\n",
        "  NC_1_3 = integral_NC_1_3_Simpson(f,a=a,b=b,N=N_segs)\n",
        "  NC_3_8 = integral_NC_3_8_Simpson(f,a=a,b=b,N=N_segs)\n",
        "  quad_gausleg = integral_gauss_legendre(f,a=a,b=b,N=N_legendre) \n",
        "\n",
        "  print(\"scipy.int:\\t{:.6f}\\tErro:\\t{:2.8f}\".format(best, 0.0) )\n",
        "  print(\"ponto médio:\\t{:.6f}\\tErro:\\t{:2.8f}\".format(ponto_medio, abs(ponto_medio - best)))\n",
        "  print(\"trapézios:\\t{:.6f}\\tErro:\\t{:2.8f}\".format(NC_trapezio, abs(NC_trapezio - best)))\n",
        "  print(\"1/3 Simpson:\\t{:.6f}\\tErro:\\t{:2.8f}\".format(NC_1_3, abs(NC_1_3 - best)))\n",
        "  print(\"3/8 Simpson:\\t{:.6f}\\tErro:\\t{:2.8f}\".format(NC_3_8, abs(NC_3_8 - best)))\n",
        "  print(\"Quadr. GL:\\t{:.6f}\\tErro:\\t{:2.8f}\".format(quad_gausleg, abs(quad_gausleg - best)))"
      ],
      "execution_count": null,
      "outputs": []
    },
    {
      "cell_type": "markdown",
      "metadata": {
        "id": "C4uP0XEe8zlZ"
      },
      "source": [
        "Fazendo: $f(x) = xe^x$"
      ]
    },
    {
      "cell_type": "code",
      "metadata": {
        "id": "5xXtSvtokRFX",
        "outputId": "185aa552-3764-42c3-e439-5dc34e594fd7",
        "colab": {
          "base_uri": "https://localhost:8080/",
          "height": 129
        }
      },
      "source": [
        "f = lambda x: x*math.exp(x)\n",
        "teste_metodos(f,0,10, 10, 10)"
      ],
      "execution_count": null,
      "outputs": [
        {
          "output_type": "stream",
          "text": [
            "scipy.int:\t198239.192153\tErro:\t0.00000000\n",
            "ponto médio:\t188481.468677\tErro:\t9757.72347642\n",
            "trapézios:\t218042.964489\tErro:\t19803.77233568\n",
            "1/3 Simpson:\t198335.300614\tErro:\t96.10846095\n",
            "3/8 Simpson:\t198282.069320\tErro:\t42.87716706\n",
            "Quadr. GL:\t198239.192150\tErro:\t0.00000288\n"
          ],
          "name": "stdout"
        }
      ]
    },
    {
      "cell_type": "markdown",
      "metadata": {
        "id": "dJivdRja82i9"
      },
      "source": [
        "Fazendo: $f(x) = \\dfrac{(xe^x + 12x^3 - 6x^2 - 2x + 900)}{(x+1)}$"
      ]
    },
    {
      "cell_type": "code",
      "metadata": {
        "id": "Ta-27YI5kUo-",
        "outputId": "55f2258f-ba90-4dfa-ee66-f1a1d3fd785c",
        "colab": {
          "base_uri": "https://localhost:8080/",
          "height": 129
        }
      },
      "source": [
        "f = lambda x: (x*math.exp(x) + 12*x**3 - 6*x**2 - 2*x + 900) / (x+1) \n",
        "teste_metodos(f,0,10, 100, 10)"
      ],
      "execution_count": null,
      "outputs": [
        {
          "output_type": "stream",
          "text": [
            "scipy.int:\t25172.356807\tErro:\t0.00000000\n",
            "ponto médio:\t25163.475856\tErro:\t8.88095053\n",
            "trapézios:\t25190.121389\tErro:\t17.76458264\n",
            "1/3 Simpson:\t25172.357701\tErro:\t0.00089386\n",
            "3/8 Simpson:\t25172.357204\tErro:\t0.00039734\n",
            "Quadr. GL:\t25172.345600\tErro:\t0.01120664\n"
          ],
          "name": "stdout"
        }
      ]
    },
    {
      "cell_type": "markdown",
      "metadata": {
        "id": "ohAi0xDpkwxG"
      },
      "source": [
        "# **Testando os métodos em Integrais Complexas**\n",
        "\n",
        "Como podemos ver, utilizando 3/8 de sipson com um número maior de segmentos é mais eficiente do utilizando a Quadratura de Gauss-Legendre com um $n$ muito baixo. A seguir vamos fazer alguns testes mais aprofundados em que variamos tanto os métodos quanto o números de segmentos e aplicamos a fórmula em diversas integrais mais complicadas."
      ]
    },
    {
      "cell_type": "code",
      "metadata": {
        "id": "OGrCDHWflZVL"
      },
      "source": [
        "def teste_metodos(f,a,b, precisao = None):\n",
        "  metodo_nome  = ['ponto médio', 'trapézios', '1/3 Simpson', '3/8 Simpson', 'Quadr. GL:']\n",
        "  metodo        = [integral_ponto_medio, integral_NC_trapezio, integral_NC_1_3_Simpson, integral_NC_3_8_Simpson, integral_gauss_legendre]\n",
        "  N_segs = [2,5,10,20,40,60,100,120]\n",
        "\n",
        "  best = integrate.quad(f,a,b)[0]\n",
        "\n",
        "  print('Método\\t\\tN\\tIntegral\\tErro')\n",
        "  print(\"scipy.int:\\t-\\t{:.6f}\\t{:2.8f}\".format(best, 0.0))\n",
        "\n",
        "  for i in range(0, len(metodo)):\n",
        "    for j in range(0, len(N_segs)):\n",
        "      integral = metodo[i](f,a,b,N_segs[j])\n",
        "      erro     = abs(integral - best)  \n",
        "      if (precisao == None) or (erro < precisao): \n",
        "        print(\"{}:\\t{}\\t{:.6f}\\t{:2.8f}\".format(metodo_nome[i], N_segs[j], integral, erro))\n",
        "      if (erro < 1e-8):\n",
        "        break"
      ],
      "execution_count": null,
      "outputs": []
    },
    {
      "cell_type": "markdown",
      "metadata": {
        "id": "jYD4PVKSznIq"
      },
      "source": [
        "Vamos iniciar com uma $f(x)$ contendo elementos polinomiais e exponencias no intervalo $[0,10]$.\n",
        "\n",
        "\\begin{equation}\n",
        "I_f = \\int_{-2}^{2} \\dfrac{xe^xdx + 12x^3 - 6x^2 - 2x + 900}{(x+1)}dx\n",
        "\\end{equation}\n",
        "\n",
        "Na tabela abaixo exibimos apenas os métodos que obtiveram um erro menor ou igual à $1.0$ e vemos que o método dos trapézios já não consegue se aproximar muito bem do resultado. Vemos também que o método da quadratura converge em um resultado melhor que os outros métodos  com um valor de $n \\approx 10$"
      ]
    },
    {
      "cell_type": "code",
      "metadata": {
        "id": "TaaAzcLIxb6K",
        "outputId": "0c8bc4dc-1dff-4830-8be1-cb321ce18d91",
        "colab": {
          "base_uri": "https://localhost:8080/",
          "height": 298
        }
      },
      "source": [
        "f = lambda x: (x*math.exp(x) + 12*x**3 - 6*x**2 - 2*x + 900) / (x+1) \n",
        "teste_metodos(f,0,10, precisao=1)"
      ],
      "execution_count": null,
      "outputs": [
        {
          "output_type": "stream",
          "text": [
            "Método\t\tN\tIntegral\tErro\n",
            "scipy.int:\t-\t25172.356807\t0.00000000\n",
            "1/3 Simpson:\t20\t25172.899208\t0.54240158\n",
            "1/3 Simpson:\t40\t25172.391471\t0.03466411\n",
            "1/3 Simpson:\t60\t25172.363687\t0.00687970\n",
            "1/3 Simpson:\t100\t25172.357701\t0.00089386\n",
            "1/3 Simpson:\t120\t25172.357238\t0.00043126\n",
            "3/8 Simpson:\t20\t25172.598672\t0.24186557\n",
            "3/8 Simpson:\t40\t25172.372228\t0.01542099\n",
            "3/8 Simpson:\t60\t25172.359866\t0.00305899\n",
            "3/8 Simpson:\t100\t25172.357204\t0.00039734\n",
            "3/8 Simpson:\t120\t25172.356999\t0.00019169\n",
            "Quadr. GL::\t10\t25172.345600\t0.01120664\n",
            "Quadr. GL::\t20\t25172.356807\t0.00000004\n",
            "Quadr. GL::\t40\t25172.356807\t0.00000000\n"
          ],
          "name": "stdout"
        }
      ]
    },
    {
      "cell_type": "code",
      "metadata": {
        "id": "WXhvsuJa23OV",
        "outputId": "eafe7332-fa4b-42a1-92bf-24ee9996e311",
        "colab": {
          "base_uri": "https://localhost:8080/",
          "height": 300
        }
      },
      "source": [
        "# Visualização de f(x)\n",
        "x = np.linspace(0,10,1000)\n",
        "f_vec = np.vectorize(f)\n",
        "y = f_vec(x)\n",
        "\n",
        "plt.title('Visualização de f(x)')\n",
        "plt.plot(x,y)"
      ],
      "execution_count": null,
      "outputs": [
        {
          "output_type": "execute_result",
          "data": {
            "text/plain": [
              "[<matplotlib.lines.Line2D at 0x7fd7070a4438>]"
            ]
          },
          "metadata": {
            "tags": []
          },
          "execution_count": 20
        },
        {
          "output_type": "display_data",
          "data": {
            "image/png": "[encoded data removed]",
            "text/plain": [
              "<Figure size 432x288 with 1 Axes>"
            ]
          },
          "metadata": {
            "tags": [],
            "needs_background": "light"
          }
        }
      ]
    },
    {
      "cell_type": "markdown",
      "metadata": {
        "id": "BOtwiuYtvGpX"
      },
      "source": [
        "Vamos testar uma $f(x)$ que não seja polinomial tal qual:\n",
        "\n",
        "\\begin{equation}\n",
        "I_f = \\int_{-2}^{2} e^{-x^2}dx\n",
        "\\end{equation}\n",
        "\n"
      ]
    },
    {
      "cell_type": "code",
      "metadata": {
        "id": "ARXADdmQw7Ky",
        "outputId": "b3d51a88-6902-4868-8d17-885b137b9db8",
        "colab": {
          "base_uri": "https://localhost:8080/",
          "height": 223
        }
      },
      "source": [
        "f = lambda x: math.exp(-(x**2)) \n",
        "teste_metodos(f,-2,2, precisao=1e-6)"
      ],
      "execution_count": null,
      "outputs": [
        {
          "output_type": "stream",
          "text": [
            "Método\t\tN\tIntegral\tErro\n",
            "scipy.int:\t-\t1.764163\t0.00000000\n",
            "1/3 Simpson:\t20\t1.764162\t0.00000081\n",
            "1/3 Simpson:\t40\t1.764163\t0.00000005\n",
            "1/3 Simpson:\t60\t1.764163\t0.00000001\n",
            "1/3 Simpson:\t100\t1.764163\t0.00000000\n",
            "3/8 Simpson:\t20\t1.764162\t0.00000036\n",
            "3/8 Simpson:\t40\t1.764163\t0.00000002\n",
            "3/8 Simpson:\t60\t1.764163\t0.00000000\n",
            "Quadr. GL::\t10\t1.764163\t0.00000027\n",
            "Quadr. GL::\t20\t1.764163\t0.00000000\n"
          ],
          "name": "stdout"
        }
      ]
    },
    {
      "cell_type": "code",
      "metadata": {
        "id": "3PfTSPid1lcL",
        "outputId": "afe8d342-da12-4ada-efaf-ca3bdb592adb",
        "colab": {
          "base_uri": "https://localhost:8080/",
          "height": 300
        }
      },
      "source": [
        "x = np.linspace(-2.5,2.5,1000)\n",
        "f_vec = np.vectorize(f)\n",
        "y = f_vec(x)\n",
        "\n",
        "plt.title('Visualização de f(x)')\n",
        "plt.plot(x,y)"
      ],
      "execution_count": null,
      "outputs": [
        {
          "output_type": "execute_result",
          "data": {
            "text/plain": [
              "[<matplotlib.lines.Line2D at 0x7fd7070a4048>]"
            ]
          },
          "metadata": {
            "tags": []
          },
          "execution_count": 22
        },
        {
          "output_type": "display_data",
          "data": {
            "image/png": "[encoded data removed]",
            "text/plain": [
              "<Figure size 432x288 with 1 Axes>"
            ]
          },
          "metadata": {
            "tags": [],
            "needs_background": "light"
          }
        }
      ]
    },
    {
      "cell_type": "markdown",
      "metadata": {
        "id": "aKuZbCwtzC2I"
      },
      "source": [
        "\\begin{equation}\n",
        "I_f = \\int_{1}^{3} e^xcos(x)dx\n",
        "\\end{equation}"
      ]
    },
    {
      "cell_type": "code",
      "metadata": {
        "id": "gJ3s5HHh4D1b",
        "outputId": "24125b42-f2b0-4ba9-8f77-ac6c4e08d3ab",
        "colab": {
          "base_uri": "https://localhost:8080/",
          "height": 204
        }
      },
      "source": [
        "f = lambda x: math.exp(x) * math.cos(x) \n",
        "teste_metodos(f,1,3, precisao=1e-6)"
      ],
      "execution_count": null,
      "outputs": [
        {
          "output_type": "stream",
          "text": [
            "Método\t\tN\tIntegral\tErro\n",
            "scipy.int:\t-\t-10.403054\t0.00000000\n",
            "1/3 Simpson:\t40\t-10.403054\t0.00000009\n",
            "1/3 Simpson:\t60\t-10.403054\t0.00000002\n",
            "1/3 Simpson:\t100\t-10.403054\t0.00000000\n",
            "3/8 Simpson:\t20\t-10.403054\t0.00000064\n",
            "3/8 Simpson:\t40\t-10.403054\t0.00000004\n",
            "3/8 Simpson:\t60\t-10.403054\t0.00000001\n",
            "Quadr. GL::\t5\t-10.403054\t0.00000017\n",
            "Quadr. GL::\t10\t-10.403054\t0.00000000\n"
          ],
          "name": "stdout"
        }
      ]
    },
    {
      "cell_type": "code",
      "metadata": {
        "id": "xZb53H_p5TS-",
        "outputId": "025a337f-aa28-430c-988f-ccb967f657f6",
        "colab": {
          "base_uri": "https://localhost:8080/",
          "height": 300
        }
      },
      "source": [
        "x = np.linspace(0,3,1000)\n",
        "f_vec = np.vectorize(f)\n",
        "y = f_vec(x)\n",
        "plt.title('Visualização de f(x)')\n",
        "plt.plot(x,y)"
      ],
      "execution_count": null,
      "outputs": [
        {
          "output_type": "execute_result",
          "data": {
            "text/plain": [
              "[<matplotlib.lines.Line2D at 0x7fd706b71978>]"
            ]
          },
          "metadata": {
            "tags": []
          },
          "execution_count": 24
        },
        {
          "output_type": "display_data",
          "data": {
            "image/png": "[encoded data removed]",
            "text/plain": [
              "<Figure size 432x288 with 1 Axes>"
            ]
          },
          "metadata": {
            "tags": [],
            "needs_background": "light"
          }
        }
      ]
    },
    {
      "cell_type": "markdown",
      "metadata": {
        "id": "Y8TMlzVU51cs"
      },
      "source": [
        "\\begin{equation}\n",
        "I_f = \\int_{1}^{3} \\dfrac{1}{\\sigma \\sqrt{2\\pi}} exp({-\\dfrac{(x-m)^2}{2\\sigma^2}})dx\n",
        "\\end{equation}\n",
        "\n",
        "com $m = 4.0$ e $\\sigma = 1.5$"
      ]
    },
    {
      "cell_type": "code",
      "metadata": {
        "id": "ez-Bdu2s5qzk",
        "outputId": "1b8c4737-770a-445c-c18c-858d9df972f9",
        "colab": {
          "base_uri": "https://localhost:8080/",
          "height": 204
        }
      },
      "source": [
        "m = 4.0\n",
        "sigma = 1.5\n",
        "f = lambda x: (1/(sigma * math.sqrt(2*math.pi) * math.exp(((x-m)**2/(2*(sigma**2)))) )) \n",
        "teste_metodos(f,1,3, precisao=1e-6)"
      ],
      "execution_count": null,
      "outputs": [
        {
          "output_type": "stream",
          "text": [
            "Método\t\tN\tIntegral\tErro\n",
            "scipy.int:\t-\t0.229742\t0.00000000\n",
            "ponto médio:\t100\t0.229742\t0.00000078\n",
            "ponto médio:\t120\t0.229742\t0.00000054\n",
            "1/3 Simpson:\t10\t0.229742\t0.00000007\n",
            "1/3 Simpson:\t20\t0.229742\t0.00000000\n",
            "3/8 Simpson:\t5\t0.229742\t0.00000051\n",
            "3/8 Simpson:\t10\t0.229742\t0.00000003\n",
            "3/8 Simpson:\t20\t0.229742\t0.00000000\n",
            "Quadr. GL::\t5\t0.229742\t0.00000000\n"
          ],
          "name": "stdout"
        }
      ]
    },
    {
      "cell_type": "code",
      "metadata": {
        "id": "HA0aYI65660T",
        "outputId": "8aed8ec3-8dd0-4842-994f-d1f0757134fb",
        "colab": {
          "base_uri": "https://localhost:8080/",
          "height": 300
        }
      },
      "source": [
        "x = np.linspace(0,10,1000)\n",
        "f_vec = np.vectorize(f)\n",
        "y = f_vec(x)\n",
        "plt.title('Visualização de f(x)')\n",
        "plt.plot(x,y)"
      ],
      "execution_count": null,
      "outputs": [
        {
          "output_type": "execute_result",
          "data": {
            "text/plain": [
              "[<matplotlib.lines.Line2D at 0x7fd707049400>]"
            ]
          },
          "metadata": {
            "tags": []
          },
          "execution_count": 26
        },
        {
          "output_type": "display_data",
          "data": {
            "image/png": "[encoded data removed]",
            "text/plain": [
              "<Figure size 432x288 with 1 Axes>"
            ]
          },
          "metadata": {
            "tags": [],
            "needs_background": "light"
          }
        }
      ]
    },
    {
      "cell_type": "markdown",
      "metadata": {
        "id": "Q9f1MuCB7_W1"
      },
      "source": [
        "# **Conclusão**\n",
        "\n",
        "Neste relatório vimos os diferentes métodos existentes para realizar uma integração numérica de funções conhecidas e introduzimos o método de Quadratura de Gauss-Legendre não visto em sala, comparando-o com os outros métodos em diferentes tipos de funções e demonstrando como o mesmo consegue obter resultados superiores aos outros métodos com o uso de poucos nós."
      ]
    },
    {
      "cell_type": "code",
      "metadata": {
        "id": "HEhcmslQ8esB"
      },
      "source": [
        ""
      ],
      "execution_count": null,
      "outputs": []
    }
  ]
}