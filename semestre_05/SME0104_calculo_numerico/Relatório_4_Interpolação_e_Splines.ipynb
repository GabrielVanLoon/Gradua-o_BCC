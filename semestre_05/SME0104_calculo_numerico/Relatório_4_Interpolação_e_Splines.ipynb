{
  "nbformat": 4,
  "nbformat_minor": 0,
  "metadata": {
    "colab": {
      "name": "Relatório 4 - Interpolação e Splines.ipynb",
      "provenance": [],
      "collapsed_sections": []
    },
    "kernelspec": {
      "name": "python3",
      "display_name": "Python 3"
    }
  },
  "cells": [
    {
      "cell_type": "markdown",
      "metadata": {
        "id": "pnSldu8WyzOL"
      },
      "source": [
        "# **Relatório 04 - Interpolação Polinomial e Splines**\n",
        "##### **Gabriel van Loon Bodê da Costa Dourado Fuentes Rojas**\n",
        "##### **SME0104 - Cálculo Numérico**\n",
        "##### **Docente: Cynthia de Oliveira Lage Ferreira** "
      ]
    },
    {
      "cell_type": "code",
      "metadata": {
        "id": "aR9_vpxsyuAS"
      },
      "source": [
        "import numpy as np\n",
        "import pandas as pd\n",
        "import matplotlib.pyplot as plt\n",
        "import scipy.integrate as integrate\n",
        "import math\n",
        "import seaborn as sns\n",
        "sns.set_style(\"whitegrid\")\n",
        "%matplotlib inline"
      ],
      "execution_count": null,
      "outputs": []
    },
    {
      "cell_type": "markdown",
      "metadata": {
        "id": "UXtKUIplzhfx"
      },
      "source": [
        "# **Resumo do Relatório**\n",
        "\n",
        "Neste relatório iremos revisar a teoria e prática acerca dos métodos de interpolação polinomial vistos em sala, além de introduzirmos a técnica de interpolação utilizando Splines Lineares e Cúbicos.\n",
        "\n",
        "No fim, aplicamos as técnicas de splines para gerar gráficos de dados referentes ao fechamento da Bolsa de Valores IBOVESPA durante o mês de julho/2020 e comparamos os resultados obtidos ao usar a interpolação linear e a cúbica."
      ]
    },
    {
      "cell_type": "markdown",
      "metadata": {
        "id": "y0Q0oWBazyzw"
      },
      "source": [
        "# **Interpolação Polinomial**\n",
        "\n",
        "Dado um conjunto de $(n+1)$ pontos $(x_i,y_i)$ tal que $f(x_i) = y_i$, com $f$ conhecida ou não. Queremos encontrar uma **função interpoladora** $F(x) \\in P_n$ tal que, $\\forall i = 0...n$, $F(x_i) = y_i = f(x_i)$. \n",
        "\n",
        "Sabemos que $F(x)$ pode ser expressa como uma combinação linear dos polimômios da base canônica de $P_n$, iremos então gerar o seguinte sistema:\n",
        "\n",
        "\\begin{cases}\n",
        "F(x_0) = a_0 + a_1x_0 + a_2x_0^2 + ... + a_nx_0^n = y_0 \\\\\n",
        "F(x_1) = a_1 + a_1x_1 + a_2x_1^2 + ... + a_nx_1^n = y_1 \\\\\n",
        "... \\\\\n",
        "F(x_n) = a_n + a_1x_n + a_2x_n^2 + ... + a_nx_n^n = y_n \n",
        "\\end{cases}\n",
        "\n",
        "Podemos escrever o sistema acima com uma forma matricial do tipo $Ax = b$ tal que\n",
        "\n",
        "\\begin{equation}\n",
        "\\begin{pmatrix}\n",
        "1 & x_0 & ... & x_0^n \\\\\n",
        "1 & x_1 & ... & x_1^n \\\\\n",
        "\\vdots & \\vdots & \\ddots & \\vdots\\\\\n",
        "1 & x_n & ... & x_n^n \\\\\n",
        "\\end{pmatrix}\n",
        ".\n",
        "\\begin{pmatrix}\n",
        "a_0 \\\\\n",
        "a_1 \\\\\n",
        "\\vdots \\\\\n",
        "a_n\n",
        "\\end{pmatrix}\n",
        "=\n",
        "\\begin{pmatrix}\n",
        "y_0 \\\\\n",
        "y_1 \\\\\n",
        "\\vdots \\\\\n",
        "y_n\n",
        "\\end{pmatrix}\n",
        "\\end{equation}\n",
        "\n",
        "A matriz $A$ é também conhecida como **Matriz de Vandermond** e tem a propriedade de que $det(x) = \\prod_{i<k}(x_k - x_i)$. Logo, quanto tivermos todos os $x_i$ no conjunto de dados distintos é garantido que o sistema terá solução e ela será única. \n",
        "\n",
        "Podemos aplicar algum tipo de método direto ou iterativo para resolver o sistema acima, porém precisamos lembrar que caso $n$ seja muito grande tais métodos podem ser bastante custosos e, por isso mesmo, iremos ver outras formas de gerar a $F(x)$ sem a necessidade de resolver o sistema acima."
      ]
    },
    {
      "cell_type": "code",
      "metadata": {
        "id": "mU8bqPiW22m6"
      },
      "source": [
        "def get_y_by_coefs(x,coefs):\n",
        "  y = np.zeros((1,len(x))).flatten()\n",
        "  n = len(coefs)\n",
        "  for i in range(0, len(coefs)):\n",
        "    y += coefs[i] * (x **(n-i-1)) \n",
        "  return y\n",
        "\n",
        "def interpolacao_sistema(x,y):\n",
        "  A = np.vander(x)\n",
        "  coefs = np.linalg.solve(A,y)\n",
        "  return coefs"
      ],
      "execution_count": null,
      "outputs": []
    },
    {
      "cell_type": "markdown",
      "metadata": {
        "id": "JpDDKBYB-kPj"
      },
      "source": [
        "interpolando $f(x) = 5x^6 - 4.5x^4 - 3x^3 + 22x^2 + 13x + 300$ com $7$ pontos entre $[-1,1]$"
      ]
    },
    {
      "cell_type": "code",
      "metadata": {
        "id": "5xtlwALT2ThS",
        "outputId": "195d1337-d25d-45cf-c23a-24bca42a99b6",
        "colab": {
          "base_uri": "https://localhost:8080/",
          "height": 284
        }
      },
      "source": [
        "f = lambda x: 5*x**6 - 4.5*x**4 - 3*x**3 + 22*x**2 + 13*x + 300\n",
        "x = np.linspace(-1,1,7)\n",
        "y = np.vectorize(f)(x)\n",
        "\n",
        "coefs  = interpolacao_sistema(x,y)\n",
        "x_pred = np.linspace(-1,1,100)\n",
        "y_pred = get_y_by_coefs(x_pred,coefs)\n",
        "\n",
        "plt.plot(x_pred,y_pred, 'r')\n",
        "plt.plot(x,y, 'bo')"
      ],
      "execution_count": null,
      "outputs": [
        {
          "output_type": "execute_result",
          "data": {
            "text/plain": [
              "[<matplotlib.lines.Line2D at 0x7fe3ceb1f320>]"
            ]
          },
          "metadata": {
            "tags": []
          },
          "execution_count": 52
        },
        {
          "output_type": "display_data",
          "data": {
            "image/png": "[encoded data removed]",
            "text/plain": [
              "<Figure size 432x288 with 1 Axes>"
            ]
          },
          "metadata": {
            "tags": [],
            "needs_background": "light"
          }
        }
      ]
    },
    {
      "cell_type": "markdown",
      "metadata": {
        "id": "56fFAEg9_Oq9"
      },
      "source": [
        "interpolando $f(x) = e^{x^2} \\cos(x)$ com $15$ pontos entre $[9,10]$"
      ]
    },
    {
      "cell_type": "code",
      "metadata": {
        "id": "39Pzd9OQ2q5w",
        "outputId": "6823d006-bf14-46a5-9dbb-623e2725cd46",
        "colab": {
          "base_uri": "https://localhost:8080/",
          "height": 295
        }
      },
      "source": [
        "f = lambda x: math.exp(x**2)*math.cos(x)\n",
        "x = np.linspace(9,10,15)\n",
        "y = np.vectorize(f)(x)\n",
        "\n",
        "coefs  = interpolacao_sistema(x,y)\n",
        "x_pred = np.linspace(9,10,100)\n",
        "y_pred = get_y_by_coefs(x_pred,coefs)\n",
        "\n",
        "x_exp = np.linspace(9,10,100)\n",
        "y_exp = np.vectorize(f)(x_exp)\n",
        "\n",
        "plt.plot(x_exp,y_exp, 'b')\n",
        "plt.plot(x_pred,y_pred, 'r')\n",
        "plt.plot(x,y, 'bo')"
      ],
      "execution_count": null,
      "outputs": [
        {
          "output_type": "execute_result",
          "data": {
            "text/plain": [
              "[<matplotlib.lines.Line2D at 0x7fe3cea3ec50>]"
            ]
          },
          "metadata": {
            "tags": []
          },
          "execution_count": 53
        },
        {
          "output_type": "display_data",
          "data": {
            "image/png": "[encoded data removed]",
            "text/plain": [
              "<Figure size 432x288 with 1 Axes>"
            ]
          },
          "metadata": {
            "tags": [],
            "needs_background": "light"
          }
        }
      ]
    },
    {
      "cell_type": "markdown",
      "metadata": {
        "id": "NVFs_6o__age"
      },
      "source": [
        "interpolando $f(x) = \\dfrac{1}{(1+25x^2)}$ com $15$ pontos entre $[-1,1]$"
      ]
    },
    {
      "cell_type": "code",
      "metadata": {
        "id": "M0-jO3lo3m1L",
        "outputId": "5dbd9649-2170-4c45-faf8-d06a143a0cfd",
        "colab": {
          "base_uri": "https://localhost:8080/",
          "height": 284
        }
      },
      "source": [
        "f = lambda x: 1/(1 + 25*x**2)\n",
        "x = np.linspace(-1,1,15)\n",
        "y = np.vectorize(f)(x)\n",
        "\n",
        "coefs  = interpolacao_sistema(x,y)\n",
        "x_pred = np.linspace(-1,1,100)\n",
        "y_pred = get_y_by_coefs(x_pred,coefs)\n",
        "\n",
        "x_exp = np.linspace(-1,1,100)\n",
        "y_exp = np.vectorize(f)(x_exp)\n",
        "\n",
        "plt.plot(x_exp,y_exp, 'b')\n",
        "plt.plot(x_pred,y_pred, 'r')\n",
        "plt.plot(x,y, 'bo', alpha=0.7)"
      ],
      "execution_count": null,
      "outputs": [
        {
          "output_type": "execute_result",
          "data": {
            "text/plain": [
              "[<matplotlib.lines.Line2D at 0x7fe3cea1fef0>]"
            ]
          },
          "metadata": {
            "tags": []
          },
          "execution_count": 54
        },
        {
          "output_type": "display_data",
          "data": {
            "image/png": "[encoded data removed]",
            "text/plain": [
              "<Figure size 432x288 with 1 Axes>"
            ]
          },
          "metadata": {
            "tags": [],
            "needs_background": "light"
          }
        }
      ]
    },
    {
      "cell_type": "markdown",
      "metadata": {
        "id": "OM_tEv6W4o3-"
      },
      "source": [
        "# **Interpolação de Lagrange**\n",
        "\n",
        "Muito próximo do que foi visto na sessão anterior, Lagrange também define sua $F(x)$ como uma soma de $n+1$ polinômios $\\ell_k(x)$. Eles no entanto não serão elementos da base canônica e possuem como coeficientes os próprios $y_k$, gerando um sistema abaixo:\n",
        "\n",
        "\\begin{cases}\n",
        "P_n(x_0) = y_0 \\ell_0(x_0) + y_1 \\ell_1(x_0) + ... + y_n \\ell_n(x_0) = y_0 \\\\\n",
        "P_n(x_1) = y_0 \\ell_0(x_1) + y_1 \\ell_1(x_1) + ... + y_n \\ell_n(x_1) = y_1 \\\\\n",
        "\\vdots  \\\\\n",
        "P_n(x_n) = y_0 \\ell_0(x_n) + y_1 \\ell_1(x_n) + ... + y_n \\ell_n(x_n) = y_n \n",
        "\\end{cases}\n",
        "\n",
        "Neste caso, não queremos mais determinar os coeficientes, uma vez que eles serão os próprios $y_i$, mas sim os polinômios que irão tornar o sistema verdadeiro. Para cada $l_k(x_i)$ precisamos que:\n",
        "\n",
        "\\begin{equation}\n",
        "l_k(x_i) = \n",
        "\\begin{cases}\n",
        "1, \\space se \\space i=k \\\\\n",
        "0, \\space se \\space i \\neq k\n",
        "\\end{cases}\n",
        "\\end{equation}\n",
        "\n",
        "Isso equivale à dizer que precisamos que $l_k(x)$ tenha como raíz todos os $x_j \\neq x_i$. Sabemos que podemos escrever um polinômio ao conhecer suas raízes por meio da seguinte forma:\n",
        "\n",
        "\\begin{equation}\n",
        "l_k(x) = a(x - x_0)(x - x_1)...(x - x_n) = a \\prod_{j \\neq i}^n(x - x_j) \\space,\\space a \\in \\mathbb{R}\n",
        "\\end{equation}\n",
        "\n",
        "Substituindo a forma acima em $P_n(x)$ teremos o resultado acima, mas ainda precisamos encontrar o valor do coeficiente $a \\in \\mathbb{R}$. Teremos que\n",
        "\n",
        "\\begin{equation}\n",
        "P_n(x_i) = y_i \\ell_i(x_i) = y_i a \\prod_{j \\neq i}^n(x_i - x_j) = y_i \\\\\n",
        "\\Rightarrow a = \\dfrac{y_i}{y_i \\prod_{j \\neq i}^n(x_i - x_j)} = \\dfrac{1}{\\prod_{j \\neq i}^n(x_i - x_j)} \n",
        "\\end{equation}\n",
        "\n",
        "com isso determinamos cada $l_k(x)$ será dado por $l_k(x) = \\prod_{j \\neq k}^n \\dfrac{(x - x_j)}{(x_k - x_j)}$\n"
      ]
    },
    {
      "cell_type": "code",
      "metadata": {
        "id": "fikxDNO7_vT6"
      },
      "source": [
        "def interpolacao_lagrange(xi, yi, x):\n",
        "  L = np.ones((len(xi),len(x)))\n",
        "\n",
        "  for i in range(0,len(xi)):\n",
        "    for j in range(0, len(xi)):\n",
        "      if (i != j):\n",
        "        L[i,:] = L[i,:] * ( (x - xi[j]) / (xi[i] - xi[j]) )\n",
        "    L[i,:] =  L[i,:] * y[i]\n",
        "\n",
        "  return np.sum(L,axis=0)"
      ],
      "execution_count": null,
      "outputs": []
    },
    {
      "cell_type": "markdown",
      "metadata": {
        "id": "AfZQNqC6_zeP"
      },
      "source": [
        "interpolando $f(x) = 5x^6 - 4.5x^4 - 3x^3 + 22x^2 + 13x + 300$ com $10$ pontos entre $[-1,1]$"
      ]
    },
    {
      "cell_type": "code",
      "metadata": {
        "id": "wgNoUrp2-hAt",
        "outputId": "3409f041-2ea0-439e-dd58-8d84fb8ad222",
        "colab": {
          "base_uri": "https://localhost:8080/",
          "height": 284
        }
      },
      "source": [
        "f = lambda x: 5*x**6 - 4.5*x**4 - 3*x**3 + 22*x**2 + 13*x + 300\n",
        "x = np.linspace(-1,1,10)\n",
        "y = np.vectorize(f)(x)\n",
        "x_pred = np.linspace(-1,1,15)\n",
        "\n",
        "y_pred = interpolacao_lagrange(x,y,x_pred)\n",
        "\n",
        "plt.plot(x_pred,y_pred, 'r')\n",
        "plt.plot(x,y, 'bo')"
      ],
      "execution_count": null,
      "outputs": [
        {
          "output_type": "execute_result",
          "data": {
            "text/plain": [
              "[<matplotlib.lines.Line2D at 0x7fe3ce9e5ba8>]"
            ]
          },
          "metadata": {
            "tags": []
          },
          "execution_count": 56
        },
        {
          "output_type": "display_data",
          "data": {
            "image/png": "[encoded data removed]",
            "text/plain": [
              "<Figure size 432x288 with 1 Axes>"
            ]
          },
          "metadata": {
            "tags": [],
            "needs_background": "light"
          }
        }
      ]
    },
    {
      "cell_type": "markdown",
      "metadata": {
        "id": "4PIg9Sz7_2-I"
      },
      "source": [
        "interpolando $f(x) = e^{x^2}$ com $25$ pontos entre $[8,9]$"
      ]
    },
    {
      "cell_type": "code",
      "metadata": {
        "id": "fVfqfGax-rPz",
        "outputId": "50a2326a-5c08-49b0-d7d7-e98487f0118b",
        "colab": {
          "base_uri": "https://localhost:8080/",
          "height": 295
        }
      },
      "source": [
        "f = lambda x: math.exp(x**2)*math.cos(x)\n",
        "x = np.linspace(8,9,25)\n",
        "y = np.vectorize(f)(x)\n",
        "x_pred = np.linspace(8,9,100)\n",
        "\n",
        "y_pred = interpolacao_lagrange(x,y,x_pred)\n",
        "\n",
        "x_exp = np.linspace(8,9,100)\n",
        "y_exp = np.vectorize(f)(x_exp)\n",
        "\n",
        "plt.plot(x_exp,y_exp, 'b')\n",
        "plt.plot(x_pred,y_pred, 'r')\n",
        "plt.plot(x,y, 'bo')"
      ],
      "execution_count": null,
      "outputs": [
        {
          "output_type": "execute_result",
          "data": {
            "text/plain": [
              "[<matplotlib.lines.Line2D at 0x7fe3ce902630>]"
            ]
          },
          "metadata": {
            "tags": []
          },
          "execution_count": 57
        },
        {
          "output_type": "display_data",
          "data": {
            "image/png": "[encoded data removed]",
            "text/plain": [
              "<Figure size 432x288 with 1 Axes>"
            ]
          },
          "metadata": {
            "tags": [],
            "needs_background": "light"
          }
        }
      ]
    },
    {
      "cell_type": "markdown",
      "metadata": {
        "id": "P-hlnkrWAAYQ"
      },
      "source": [
        "interpolando $f(x) = \\dfrac{1}{(1+25x^2)}$ com $15$ pontos entre $[-1,1]$"
      ]
    },
    {
      "cell_type": "code",
      "metadata": {
        "id": "BJha2ohW_Faq",
        "outputId": "a80f9a06-7ae0-4707-87af-3f3514d9f006",
        "colab": {
          "base_uri": "https://localhost:8080/",
          "height": 284
        }
      },
      "source": [
        "f = lambda x: 1/(1 + 25*x**2)\n",
        "x = np.linspace(-1,1,15)\n",
        "y = np.vectorize(f)(x)\n",
        "x_pred = np.linspace(-1,1,100)\n",
        "y_pred = interpolacao_lagrange(x,y,x_pred)\n",
        "\n",
        "x_exp = np.linspace(-1,1,100)\n",
        "y_exp = np.vectorize(f)(x_exp)\n",
        "\n",
        "plt.plot(x_exp,y_exp, 'b')\n",
        "plt.plot(x_pred,y_pred, 'r')\n",
        "plt.plot(x,y, 'bo', alpha=0.7)"
      ],
      "execution_count": null,
      "outputs": [
        {
          "output_type": "execute_result",
          "data": {
            "text/plain": [
              "[<matplotlib.lines.Line2D at 0x7fe3ce8e8860>]"
            ]
          },
          "metadata": {
            "tags": []
          },
          "execution_count": 58
        },
        {
          "output_type": "display_data",
          "data": {
            "image/png": "[encoded data removed]",
            "text/plain": [
              "<Figure size 432x288 with 1 Axes>"
            ]
          },
          "metadata": {
            "tags": [],
            "needs_background": "light"
          }
        }
      ]
    },
    {
      "cell_type": "markdown",
      "metadata": {
        "id": "cqq7ucFXAI6l"
      },
      "source": [
        "Uma das desvantagems do método de Lagrange é a necessidade de recalcular todos os $l_k(x)$ toda vez que há uma mudança no conjunto de dados. Veremos agora um outro método que permite que novos pontos sejam adicionados sem que haja um custo muito elevado para refazer a interpolação.\n",
        "\n",
        "# **Formas de Newton**\n",
        "\n",
        "Nas Formas de Newton, o polinômio interpolador $P_n(x)$ também é uma combinação de polinômios dados da seguinte forma:\n",
        "\n",
        "\\begin{equation}\n",
        "P_n(x) = \\alpha_0 + \\alpha_1(x - x_0) + \\alpha_2(x - x_0)(x - x_1) + ... + \\alpha_n \\prod_{i=0}^{n-1}(x - x_i)\n",
        "\\end{equation}\n",
        "\n",
        "Veja que, ao contrário de Lagrange, cada polinômio associado aos $\\alpha_i$, que irei chamar de $n_i(x)$ apenas para simplificar, garante que $n_i(x_j) = 0$ se e somente se $j < i$. Logo, para garantir que $\\alpha_in_i(x_i) = y_i$ será necessário compensar a influência dos polinômios anteriores, uma vez que eles não serão nulos nesses pontos."
      ]
    },
    {
      "cell_type": "markdown",
      "metadata": {
        "id": "GvoD36rLG60P"
      },
      "source": [
        "$\\square$ Dado apenas um ponto ($n_{max} = 0$).\n",
        "\n",
        "$P_n(x_0) = \\alpha_0 = y_0$, logo $\\alpha_0 = y_0$\n",
        "\n",
        "$\\square$ Dado dois pontos ($n_{max} = 1$).\n",
        "\n",
        "$P_n(x_1) = \\alpha_0 + \\alpha_1(x_1 - x_0) = y_1$\n",
        "\n",
        "Já temos que $\\alpha_0 = y_0$, logo $\\alpha_1 = \\dfrac{(y_1 - y_0)}{x_1 - x_0}$\n",
        "\n",
        "$\\vdots$\n",
        "\n",
        "$\\square$ Dado $k$ pontos ($n_{max} = k$).\n",
        "\n",
        "Teremos então que $\\alpha_k = f[x_0,x_1,...,x_k]$ em que:\n",
        "\n",
        "\\begin{equation}\n",
        "f[x_i, x_{i+1},...,x_{i+k}] = \\dfrac{f[x_{i+1},...,x_{i+k}] - f[x_i, x_{i+1},...,x_{i+k-1}]}{x_{i+k} - x_i}\n",
        "\\end{equation}\n",
        "\n",
        "São chamadas **Diferenças Divididas** e permitem o cálculo dos coeficientes por meio de uma recursão. Abaixo temos uma implementação do método de newton similar ao que foi feito com o método de Lagrange."
      ]
    },
    {
      "cell_type": "code",
      "metadata": {
        "id": "sqGDgFu9JnJ7"
      },
      "source": [
        "def interpolacao_newtow(xi, yi, x):\n",
        "  n = len(xi)\n",
        "  F = np.zeros((n,n))\n",
        "  P = np.ones((n,len(x)))\n",
        "\n",
        "  # Calculando a tabela de diferenças divididas\n",
        "  F[:,0] = yi.T\n",
        "  for j in range(1,n):\n",
        "    for i in range(0,n-j):\n",
        "      F[i,j] = (F[i+1,j-1] - F[i,j-1]) / (xi[i+j] - xi[i])\n",
        "\n",
        "  # Calculando o produtório para os x de entrada\n",
        "  for i in range(1, n):\n",
        "    P[i,:] = P[i-1,:] * (x - xi[i-1])\n",
        "\n",
        "  # Multiplicando os Alphas de F com os produtórios\n",
        "  for i in range(0, n):\n",
        "    P[i,:] = P[i,:] * F[0,i]\n",
        "\n",
        "  print(F[0,:])\n",
        "\n",
        "  return np.sum(P, axis=0)"
      ],
      "execution_count": null,
      "outputs": []
    },
    {
      "cell_type": "markdown",
      "metadata": {
        "id": "cZZkUkkNAN3v"
      },
      "source": [
        "interpolando $f(x) = 5x^6 - 4.5x^4 - 3x^3 + 22x^2 + 13x + 300$ com $10$ pontos entre $[-1,1]$"
      ]
    },
    {
      "cell_type": "code",
      "metadata": {
        "id": "OIbqJK5IFC2n",
        "outputId": "32f1bf5a-bed3-45e9-d60e-ec842ff8a50c",
        "colab": {
          "base_uri": "https://localhost:8080/",
          "height": 340
        }
      },
      "source": [
        "f = lambda x: 5*x**6 - 4.5*x**4 - 3*x**3 + 22*x**2 + 13*x + 300\n",
        "x = np.linspace(-1,1,10)\n",
        "y = np.vectorize(f)(x)\n",
        "x_pred = np.linspace(-1,1,15)\n",
        "\n",
        "y_pred = interpolacao_newtow(x,y,x_pred)\n",
        "\n",
        "plt.plot(x_pred,y_pred, 'r')\n",
        "plt.plot(x,y, 'bo')"
      ],
      "execution_count": null,
      "outputs": [
        {
          "output_type": "stream",
          "text": [
            "[ 3.12500000e+02 -3.79387627e+01  4.21434233e+01 -2.30987654e+01\n",
            "  1.98827160e+01 -1.33333333e+01  5.00000000e+00 -3.19344551e-12\n",
            "  2.64709683e-12 -1.01153015e-12]\n"
          ],
          "name": "stdout"
        },
        {
          "output_type": "execute_result",
          "data": {
            "text/plain": [
              "[<matplotlib.lines.Line2D at 0x7fe3ce8ae908>]"
            ]
          },
          "metadata": {
            "tags": []
          },
          "execution_count": 60
        },
        {
          "output_type": "display_data",
          "data": {
            "image/png": "[encoded data removed]",
            "text/plain": [
              "<Figure size 432x288 with 1 Axes>"
            ]
          },
          "metadata": {
            "tags": [],
            "needs_background": "light"
          }
        }
      ]
    },
    {
      "cell_type": "markdown",
      "metadata": {
        "id": "leS9fEStATMv"
      },
      "source": [
        "interpolando $f(x) = \\dfrac{1}{(1+25x^2)}$ com $15$ pontos entre $[-1,1]$"
      ]
    },
    {
      "cell_type": "code",
      "metadata": {
        "id": "qi1Ru2xZM8Ua",
        "outputId": "ccd44b72-41f6-491b-f44c-212eddf0cc81",
        "colab": {
          "base_uri": "https://localhost:8080/",
          "height": 359
        }
      },
      "source": [
        "f = lambda x: 1/(1 + 25*x**2)\n",
        "x = np.linspace(-1,1,15)\n",
        "y = np.vectorize(f)(x)\n",
        "x_pred = np.linspace(-1,1,100)\n",
        "y_pred = interpolacao_newtow(x,y,x_pred)\n",
        "\n",
        "x_exp = np.linspace(-1,1,100)\n",
        "y_exp = np.vectorize(f)(x_exp)\n",
        "\n",
        "plt.plot(x_exp,y_exp, 'b')\n",
        "plt.plot(x_pred,y_pred, 'r')\n",
        "plt.plot(x,y, 'bo', alpha=0.7)"
      ],
      "execution_count": null,
      "outputs": [
        {
          "output_type": "stream",
          "text": [
            "[ 3.84615385e-02  9.22023182e-02  1.93433350e-01  4.26970349e-01\n",
            "  1.04409790e+00  2.62112068e+00  1.31173561e+00 -6.08432470e+01\n",
            "  1.22171515e+02  6.97512230e+01 -7.68950459e+02  1.90761484e+03\n",
            " -3.06013214e+03  3.74491696e+03 -3.74491696e+03]\n"
          ],
          "name": "stdout"
        },
        {
          "output_type": "execute_result",
          "data": {
            "text/plain": [
              "[<matplotlib.lines.Line2D at 0x7fe3ceaf7908>]"
            ]
          },
          "metadata": {
            "tags": []
          },
          "execution_count": 61
        },
        {
          "output_type": "display_data",
          "data": {
            "image/png": "[encoded data removed]",
            "text/plain": [
              "<Figure size 432x288 with 1 Axes>"
            ]
          },
          "metadata": {
            "tags": [],
            "needs_background": "light"
          }
        }
      ]
    },
    {
      "cell_type": "markdown",
      "metadata": {
        "id": "yuL4gpknJqUn"
      },
      "source": [
        "Dado um conjunto $X$ de $(n+1)$ pontos $(x_i,f(x_i))$, vimos até agora diversas técnicas que visavam encontrar um único polinômio $P_n(x)$ que tornasse verdade a igualdade $P_n(x_i) = f(x_i)$, $\\forall i \\in [0,n]$.\n",
        "\n",
        "O resultado obtido pelas práticas anteriores foram, de certa forma, equivalentes e sofriam, em alguns casos, de um problema conhecido como **Fenômeno de Runge** e que ocorre devido ao fato de estarmos utilizando polinômios como grau $n$ muito elevado (o fenômeno fica visível quando $f(x) = 1/(1+25x^2)$). \n",
        "\n",
        "Uma outra alternativa existente, e que veremos a seguir, é a de fazer uma interpolação por segmentos. Dessa forma, separamos $X$ em grupos e aplicamos uma interpolação polinomial de grau $m$ em cada um dos segmentos.\n",
        "\n",
        "Essa aproximação, no entanto, não pode ser feita sem algumas restrições, umas vez que é necessário garantir que a junção de diferentes segmentos $X_i$ e $X_{i+1}$ seja feita de maneira suave.\n",
        "\n",
        "# **Splines de Interpolação**\n",
        "\n",
        "Splines são tipos especiais de funções definidas por partes, cujas partes são polinômios de mesmo grau e que são geradas por meios de um conjunto de *nós* ou *pontos de controle* $(x_i,y_i)$.\n"
      ]
    },
    {
      "cell_type": "markdown",
      "metadata": {
        "id": "i0qEI1CGu3Gc"
      },
      "source": [
        "## **Splines Lineares**\n",
        "\n",
        "Seja um conjunto $X$ com $n+1$ nós, um spline linear irá conter $n$ segmentos $S_{1,i}(x) \\in P_1$ com as seguintes restrições\n",
        "\n",
        "\\begin{equation}\n",
        "\\begin{cases}\n",
        "S_{1,i}(x)   = a_0 + a_1x \\\\\n",
        "S_{1,i}(x_i) = a_0 + a_1x_i = y_i \\\\\n",
        " S_{1,i}(x_{i+1}) = a_0 + a_1x_{i+1} = y_{i+1} \\\\\n",
        "\\end{cases}\n",
        "\\Rightarrow\n",
        "\\begin{cases}\n",
        "a_0 = y_i - a_1x_i \\\\\n",
        "a_1 = \\dfrac{(y_{i+1} - y_i)}{(x_{i+1} - x_i)}\n",
        "\\end{cases}\n",
        "\\Rightarrow\n",
        "S_{1,i}(x) = y_i\\dfrac{x_{i+1} - x}{x_{i+1} - x_{i}} + y_{i+1}\\dfrac{x - x_i}{x_{i+1} - x_{i}}\n",
        "\\end{equation}\n",
        "\n",
        "Os Splines lineares são bastante simples de serem calculados pois, por se tratar de aproximações lineares, não possuem nenhuma restrição de suavidade. A seguir temos a implementação dos splines lineares e algumas implementações de exemplo."
      ]
    },
    {
      "cell_type": "code",
      "metadata": {
        "id": "tdmJsije0x77"
      },
      "source": [
        "def get_y_spline_linear(segs, x):\n",
        "  i = 0\n",
        "  y = []\n",
        "  for k in range(0, len(x)):\n",
        "    while (i < len(segs)-1) and (x[k] > segs[i]['x_max']):\n",
        "      i += 1\n",
        "    c = segs[i]['coefs']\n",
        "    y.append( c[0]*x[k] + c[1] )\n",
        "  return np.array(y)\n",
        "\n",
        "def spline_linear(xi,yi):\n",
        "  n    = len(xi)-1\n",
        "  segs = []\n",
        "\n",
        "  for i in range(0,n):\n",
        "    a1 = (yi[i+1] - yi[i])/(xi[i+1] - xi[i])\n",
        "    a0 = yi[i] - a1*xi[i]\n",
        "    segs.append({\n",
        "        'x_min': xi[i],\n",
        "        'x_max': xi[i+1],\n",
        "        'coefs': [a1,a0],\n",
        "    })\n",
        "  return segs"
      ],
      "execution_count": null,
      "outputs": []
    },
    {
      "cell_type": "markdown",
      "metadata": {
        "id": "qRs8UXABCuZJ"
      },
      "source": [
        "Spline de $f(x) = \\dfrac{cos(x)}{x}$ com $5$, $10$ e $20$ nós entre $[1,10]$"
      ]
    },
    {
      "cell_type": "code",
      "metadata": {
        "id": "dQWOPeLISJ-c",
        "outputId": "2df46e3b-d66d-41b0-8ad9-b0ce04f2e3aa",
        "colab": {
          "base_uri": "https://localhost:8080/",
          "height": 336
        }
      },
      "source": [
        "f = lambda x: math.cos(x)/x\n",
        "\n",
        "# Fazendo spline com 10 nós\n",
        "x = np.linspace(1,10,5)\n",
        "y = np.vectorize(f)(x)\n",
        "segs = spline_linear(x,y)\n",
        "x_pred1 = np.linspace(1,10,100)\n",
        "y_pred1 = get_y_spline_linear(segs,x_pred1)\n",
        "\n",
        "# Fazendo Spline com 20 nós\n",
        "x = np.linspace(1,10,10)\n",
        "y = np.vectorize(f)(x)\n",
        "segs = spline_linear(x,y)\n",
        "x_pred2 = np.linspace(1,10,100)\n",
        "y_pred2 = get_y_spline_linear(segs,x_pred2)\n",
        "\n",
        "# Fazendo Spline com 30 nós\n",
        "x = np.linspace(1,10,20)\n",
        "y = np.vectorize(f)(x)\n",
        "segs = spline_linear(x,y)\n",
        "x_pred3 = np.linspace(1,10,100)\n",
        "y_pred3 = get_y_spline_linear(segs,x_pred3)\n",
        "\n",
        "# Calculando os resultados originais esperados\n",
        "x_original = np.linspace(1,10,1000)\n",
        "y_original = np.vectorize(f)(x_original)\n",
        "\n",
        "fig, (ax1, ax2, ax3) = plt.subplots(1, 3, figsize=(18,5))\n",
        "plt.subplots_adjust(wspace=0.3, hspace=0.2)\n",
        "\n",
        "ax1.plot(x_pred1, y_pred1)\n",
        "ax1.plot(x_original, y_original, 'r', alpha=0.3)\n",
        "ax1.set_title(\"Spline Linear com 5 nós\")\n",
        "\n",
        "ax2.plot(x_pred2, y_pred2)\n",
        "ax2.plot(x_original, y_original, 'r', alpha=0.5)\n",
        "ax2.set_title(\"Spline Linear com 10 nós\")\n",
        "\n",
        "ax3.plot(x_pred3, y_pred3)\n",
        "ax3.plot(x_original, y_original, 'r', alpha=0.3)\n",
        "ax3.set_title(\"Spline Linear com 20 nós\")\n",
        "\n",
        "plt.show()"
      ],
      "execution_count": null,
      "outputs": [
        {
          "output_type": "display_data",
          "data": {
            "image/png": "[encoded data removed]",
            "text/plain": [
              "<Figure size 1296x360 with 3 Axes>"
            ]
          },
          "metadata": {
            "tags": [],
            "needs_background": "light"
          }
        }
      ]
    },
    {
      "cell_type": "markdown",
      "metadata": {
        "id": "ADP2JZ2wTORZ"
      },
      "source": [
        "Como podemos ver, aproximar uma função $cos(x)/x$ no intervalo $[1,10]$ com algo em torno de $20$ nós já à torna visualmente próxima da reta original. Vamos ver se com um número de nós próximo à 20 conseguimos nos aproximar melhor da $f(x) = 1/(1+25x^2)$"
      ]
    },
    {
      "cell_type": "code",
      "metadata": {
        "id": "uSb_oRR3V5uj",
        "outputId": "7f26368c-08df-474f-ac7e-fc73fcc8f75c",
        "colab": {
          "base_uri": "https://localhost:8080/",
          "height": 390
        }
      },
      "source": [
        "f = lambda x: 1/(1 + 25*x**2)\n",
        "\n",
        "x_original = np.linspace(-1,1,100)\n",
        "y_original = np.vectorize(f)(x_exp)\n",
        "\n",
        "\n",
        "# Testando com 10 Nós\n",
        "x = np.linspace(-1,1,10)\n",
        "y = np.vectorize(f)(x)\n",
        "segs = spline_linear(x,y)\n",
        "x_pred1 = np.linspace(-1,1,100)\n",
        "y_pred1 = get_y_spline_linear(segs,x_pred1)\n",
        "\n",
        "# Testando com 20 Nós\n",
        "x = np.linspace(-1,1,20)\n",
        "y = np.vectorize(f)(x)\n",
        "segs = spline_linear(x,y)\n",
        "x_pred2 = np.linspace(-1,1,100)\n",
        "y_pred2 = get_y_spline_linear(segs,x_pred2)\n",
        "\n",
        "# Testando com 30 Nós\n",
        "x = np.linspace(-1,1,30)\n",
        "y = np.vectorize(f)(x)\n",
        "segs = spline_linear(x,y)\n",
        "x_pred3 = np.linspace(-1,1,100)\n",
        "y_pred3 = get_y_spline_linear(segs,x_pred3)\n",
        "\n",
        "fig, (ax1, ax2, ax3) = plt.subplots(1, 3, figsize=(18,6))\n",
        "plt.subplots_adjust(wspace=0.3, hspace=0.2)\n",
        "\n",
        "ax1.plot(x_pred1, y_pred1)\n",
        "ax1.plot(x_original, y_original, 'r', alpha=0.5)\n",
        "ax1.set_title(\"Spline Linear com 10 nós\")\n",
        "\n",
        "ax2.plot(x_pred2, y_pred2)\n",
        "ax2.plot(x_original, y_original, 'r', alpha=0.5)\n",
        "ax2.set_title(\"Spline Linear com 20 nós\")\n",
        "\n",
        "ax3.plot(x_pred3, y_pred3)\n",
        "ax3.plot(x_original, y_original, 'r', alpha=0.5)\n",
        "ax3.set_title(\"Spline Linear com 30 nós\")\n",
        "\n",
        "plt.show()"
      ],
      "execution_count": null,
      "outputs": [
        {
          "output_type": "display_data",
          "data": {
            "image/png": "[encoded data removed]",
            "text/plain": [
              "<Figure size 1296x432 with 3 Axes>"
            ]
          },
          "metadata": {
            "tags": [],
            "needs_background": "light"
          }
        }
      ]
    },
    {
      "cell_type": "markdown",
      "metadata": {
        "id": "m43tITSPWgdj"
      },
      "source": [
        "Como podemos ver, a interpolação por partes consegue uma boa aproximação dada uma quantidade de nós, nos livrando da necessidade de encontrar um polinômio de grau muito alto e que sofra do Fenômeno de Runge.\n",
        "\n",
        "Uma outra boa aplicação para os splines lineares é o de permitir a criação de gráficos cujos dados não necessáriamente vieram de alguma função matemática mas sim de algum tipo de coleta de informações.\n",
        "\n",
        "O gráfico abaixo, por exemplo, foram retirados dos valores da Bolsa de Valores Ibovespa e representam o valor em que a mesma fechou do dia 1 de julho até o dia 30 de julho (Obs: apenas dias úteis, logo são 22 dados no total).\n",
        "\n",
        "Vamos dar uma olhada no formato dos dados a seguir:"
      ]
    },
    {
      "cell_type": "code",
      "metadata": {
        "id": "9spLNX0XWfW7",
        "outputId": "70be72b2-9572-40fc-9ea9-03b35c8714c1",
        "colab": {
          "base_uri": "https://localhost:8080/",
          "height": 206
        }
      },
      "source": [
        "dados_bovespa = pd.read_csv('/content/Dados Ibovespa Julho.csv')\n",
        "dados_bovespa.head(5)"
      ],
      "execution_count": null,
      "outputs": [
        {
          "output_type": "execute_result",
          "data": {
            "text/html": [
              "<div>\n",
              "<style scoped>\n",
              "    .dataframe tbody tr th:only-of-type {\n",
              "        vertical-align: middle;\n",
              "    }\n",
              "\n",
              "    .dataframe tbody tr th {\n",
              "        vertical-align: top;\n",
              "    }\n",
              "\n",
              "    .dataframe thead th {\n",
              "        text-align: right;\n",
              "    }\n",
              "</style>\n",
              "<table border=\"1\" class=\"dataframe\">\n",
              "  <thead>\n",
              "    <tr style=\"text-align: right;\">\n",
              "      <th></th>\n",
              "      <th>Data</th>\n",
              "      <th>Fechamento</th>\n",
              "    </tr>\n",
              "  </thead>\n",
              "  <tbody>\n",
              "    <tr>\n",
              "      <th>0</th>\n",
              "      <td>30 de jul. de 2020</td>\n",
              "      <td>105.008,70</td>\n",
              "    </tr>\n",
              "    <tr>\n",
              "      <th>1</th>\n",
              "      <td>29 de jul. de 2020</td>\n",
              "      <td>105.605,00</td>\n",
              "    </tr>\n",
              "    <tr>\n",
              "      <th>2</th>\n",
              "      <td>28 de jul. de 2020</td>\n",
              "      <td>104.109,00</td>\n",
              "    </tr>\n",
              "    <tr>\n",
              "      <th>3</th>\n",
              "      <td>27 de jul. de 2020</td>\n",
              "      <td>104.477,00</td>\n",
              "    </tr>\n",
              "    <tr>\n",
              "      <th>4</th>\n",
              "      <td>24 de jul. de 2020</td>\n",
              "      <td>102.382,00</td>\n",
              "    </tr>\n",
              "  </tbody>\n",
              "</table>\n",
              "</div>"
            ],
            "text/plain": [
              "                 Data  Fechamento\n",
              "0  30 de jul. de 2020  105.008,70\n",
              "1  29 de jul. de 2020  105.605,00\n",
              "2  28 de jul. de 2020  104.109,00\n",
              "3  27 de jul. de 2020  104.477,00\n",
              "4  24 de jul. de 2020  102.382,00"
            ]
          },
          "metadata": {
            "tags": []
          },
          "execution_count": 65
        }
      ]
    },
    {
      "cell_type": "markdown",
      "metadata": {
        "id": "dDBp1u5Pb42a"
      },
      "source": [
        "Vamos primeiro converter o DataFrame em uma lista do python, fazendo os devidos tratamentos para converter os dados em `floats` e reverter a lista, uma vez que o primeiro dado atualmente representa o último dia do mês."
      ]
    },
    {
      "cell_type": "code",
      "metadata": {
        "id": "0HZZ6xk3ZdiM"
      },
      "source": [
        "y = list(dados_bovespa['Fechamento'])\n",
        "y.reverse()\n",
        "for i in range(0,len(y)):\n",
        "  y[i] = float(y[i].replace('.','').replace(',','.'))\n",
        "x = np.linspace(1, len(y), len(y))"
      ],
      "execution_count": null,
      "outputs": []
    },
    {
      "cell_type": "markdown",
      "metadata": {
        "id": "T_k7cB5rcGo9"
      },
      "source": [
        "Por fim, vamos plotar o gráfico e, como já sabiamos, os pontos não apresentam nenhum tipo de padrão mas o Spline linear nos ajuda à ter uma ideia de como eles variaram durante o mês.\n",
        "\n"
      ]
    },
    {
      "cell_type": "code",
      "metadata": {
        "id": "ncCRTo8Qa2QN",
        "outputId": "cc37134e-42ca-428a-9b4e-893a37834f8d",
        "colab": {
          "base_uri": "https://localhost:8080/",
          "height": 287
        }
      },
      "source": [
        "segs = spline_linear(x,y)\n",
        "x_pred = np.linspace(1,len(y),100)\n",
        "y_pred = get_y_spline_linear(segs,x_pred)\n",
        "\n",
        "plt.plot(x_pred,y_pred, 'r')\n",
        "plt.plot(x,y, 'bo', alpha=0.3)"
      ],
      "execution_count": null,
      "outputs": [
        {
          "output_type": "execute_result",
          "data": {
            "text/plain": [
              "[<matplotlib.lines.Line2D at 0x7fe3d1e5eeb8>]"
            ]
          },
          "metadata": {
            "tags": []
          },
          "execution_count": 67
        },
        {
          "output_type": "display_data",
          "data": {
            "image/png": "[encoded data removed]",
            "text/plain": [
              "<Figure size 432x288 with 1 Axes>"
            ]
          },
          "metadata": {
            "tags": [],
            "needs_background": "light"
          }
        }
      ]
    },
    {
      "cell_type": "markdown",
      "metadata": {
        "id": "kAHMxYtNcqzM"
      },
      "source": [
        "Por fim, splines lineares são muito utilizados para criação de gráficos ou outras finalidades, mas agora iremos ver outra categoria de splines que também é muito interessante."
      ]
    },
    {
      "cell_type": "markdown",
      "metadata": {
        "id": "xu8t_dDv01yw"
      },
      "source": [
        "# **Splines Cúbicas**\n",
        "\n",
        "Similar ao que vimos anteriormente, dessa vez queremos que as partes de nossa spline seja composta por polinômios de 3º grau da seguinte forma:\n",
        "\n",
        "\\begin{array}\n",
        "\\mbox{0)} & S_{3,i}(x) = a_i(x-x_i)^3 + b_i(x-x_i)^2 + c_i(x-x_i) + d_i \\\\\n",
        "\\mbox{1)} & S_{3,i}(x_i) = y_i \\\\\n",
        "\\mbox{2)} & S_{3,i}(x_{i+1}) = S_{i+1}(x_{i+1}) =  y_{i+1}  \n",
        "\\end{array}\n",
        "\n",
        "Porém, apenas com as condições acima apenas garantimos que as partes vizinhas se encontrarão nas extremidades, mas não que elas serão continuas de maneira suave. Para que isso ocorra devidamente devemos também garantir as seguintes condições:\n",
        "\n",
        "\\begin{array}\n",
        "\\mbox{3)} & S'_{3,i}(x_{i+1}) = S'_{i+1}(x_{i+1}) \\\\\n",
        "\\mbox{4)} & S''_{3,i}(x_{i+1}) = S''_{3,i+1}(x_{i+1}) \\\\\n",
        "\\mbox{5.a)} & S'''_{3,0}(x_0) = S'''_{3,n}(x_n) = 0 \\\\ \n",
        "\\mbox{5.b)} & S'_{3,0}(x_0) = f'(x_0) \\mbox{ e } S'_{3,n}(x_n) = f'(x_n) \\\\ \n",
        "\\end{array}\n",
        "\n",
        "Logo, como há $n$ segmentos, haverá $4n$ incógnitas para serem encontradas no total.\n"
      ]
    },
    {
      "cell_type": "markdown",
      "metadata": {
        "id": "Viqb5TEI8ZHy"
      },
      "source": [
        "$\\square$ pela **condição 1** é simples ver que $d_i = y_i$.\n",
        "\n",
        "$\\square$ Derivando a $S_{3,i}(x)$ teremos que\n",
        "\n",
        "$S_{3,i}(x) = a_i(x-x_i)^3 + b_i(x-x_i)^2 + c_i(x-x_i) + y_i \\\\\n",
        " S'_{3,i}(x) = 3a_i(x-x_i)^2 + 2b_i(x-x_i) + c_i \\\\\n",
        " S''_{3,i}(x) = 6a_i(x-x_i) + 2b_i$\n",
        "\n",
        "Isolando $b_i$ na última fórmula e chamando $S''_{3,i}(x_i) = z_i$, teremos \n",
        "\n",
        "$S''_{3,i}(x_i) = 6a_i(x_i - x_i) + 2b_i \\Rightarrow  b_i = \\dfrac{z_i}{2}$\n",
        "\n",
        "$\\square$ Tomando a distância de um segmento como $h_i = x_{i+1} - x_i$, teremos pela **condição 4** que:\n",
        "\n",
        "$S''_{3,i}(x_{i+1}) = S''_{3,i+1}(x_{i+1}) \\\\\n",
        "\\Rightarrow 6a_i(x_{i+1}-x_i) + 2b_i = 6a_{i+1}(x_{i+1}-x_{i+1}) + 2b_{i+1} \\\\\n",
        "\\Rightarrow 6a_i(x_{i+1}-x_i) + 2b_i = 0 + 2b_{i+1} \\\\\n",
        "\\Rightarrow 6a_ih_i + 2b_i = 2b_{i+1} \\\\ \n",
        "\\Rightarrow a_i = \\dfrac{2(b_{i+1} - b_i)}{6h_i} = \\dfrac{(z_{i+1} -z_i)}{6h_i}$\n",
        "\n",
        "$\\square$ Pela **condição 2** teremos que\n",
        "\n",
        "$S_{3,i}(x_{i+1}) = S_{i+1}(x_{i+1}) \\\\\n",
        "\\Rightarrow a_i(x-x_i)^3 + b_i(x-x_i)^2 + c_i(x-x_i) + y_i = y_{i+1}\n",
        "\\Rightarrow \\dfrac{(z_{i+1} -z_i)}{6h_i}(x_{i+1}-x_i)^3 \n",
        "+ \\dfrac{z_i}{2}(x_{i+1}-x_i)^2 \n",
        "+ c_i(x_{i+1}-x_i) + y_i = y_{i+1} \\\\\n",
        "\\Rightarrow \\dfrac{(z_{i+1} -z_i)}{6h_i}h_i^3 \n",
        "+ \\dfrac{z_i}{2}h_i^2 \n",
        "+ c_ih_i + y_i = y_{i+1}$\n",
        "\n",
        "Isolando $c_i$ na equação acima teremos que\n",
        "\n",
        "$c_i = \\dfrac{y_{i+1} - y_i}{h_i} - \\dfrac{z_{i+1}h_i}{6} - \\dfrac{z_ih_i}{3}$\n",
        "\n",
        "$\\square$ Por fim, pela **condição 3** teremos que\n",
        "\n",
        "$S'_{3,i}(x_{i+1}) = S'_{i+1}(x_{i+1}) \\\\\n",
        "\\Rightarrow 3a_i(x_{i+1}-x_i)^2 + 2b_i(x_{i+1}-x_i) + c_i = c_{i+1} \\\\\n",
        "\\Rightarrow 3a_ih^2 + 2b_ih + c_i = c_{i+1} \\\\ \n",
        "\\Rightarrow 3\\dfrac{(z_{i+1} -z_i)}{6h_i}h^2 + 2\\dfrac{z_i}{2}h + c_i = c_{i+1} \\\\\n",
        "\\Rightarrow 3\\dfrac{(z_{i+1} -z_i)}{6h_i}h^2 + 2\\dfrac{z_i}{2}h + \\dfrac{y_{i+1} - y_i}{h_i} - \\dfrac{z_{i+1}h_i}{6} - \\dfrac{z_ih_i}{3} \n",
        "= \\dfrac{y_{i+2} - y_{i+1}}{h_{i+1}} - \\dfrac{z_{i+2}h_{i+1}}{6} - \\dfrac{z_{i+1}h_{i+1}}{3} \\\\\n",
        "$\n",
        "\n",
        "Ajustando os indices para corresponderem à $c_{i-1}$ e $c_i$ e isolando $z$'s teremos então a equação final dada por\n",
        "\n",
        "\\begin{equation}\n",
        "z_{i-1}h_{i-1} + z_i(2h_{i-1} + 2h_i) + z_{i+1}h_i \n",
        "= \\dfrac{6(y_{i+1} - y_i)}{h_i} - \\dfrac{6(y_i - y_{i+1})}{h_{i-1}} = (*)\n",
        "\\end{equation}\n",
        "\n",
        "Logo, resolvendo os valores de $z_i$ na equação acima conseguimos encontrar todos os coeficientes $a_i$, $b_i$, $c_i$ e $d_i$. Além disso, podemos ver que a equação acima possui tanto $z_i$ do segmento atual quanto dos segmentos vizinhos, e isso provêm do fato de que queremos garantir que os polinômios vizinhos tenham conhexões suaves."
      ]
    },
    {
      "cell_type": "markdown",
      "metadata": {
        "id": "cv79n9QiIQhE"
      },
      "source": [
        "## **Condições de Contorno**\n",
        "\n",
        "Como já vimos, iremos resolver um sistema linear para encontrar os valores dos $z_i$. No entanto, primeiro é preciso definir os valores de $z_0$ e $z_n$ pois o primeiro e o último segmento precisam desses valores para serem construidos.\n",
        "\n",
        "A **condição 5.a** é chamada de **Contorno Natural**, em que consideramos $S'''_{3,0}(x_0) = S'''_{3,n}(x_n) = 0$ e isso irá acarretar em $z_0 = z_n = 0$.\n",
        "\n",
        "Já a condição **5.b** é chamada de **Condições de Contorno Fixadas** e é útil para quando conhecemos a **f(x)** que gerou os nós e queremos a interpolação se mantenha fiel à função original em suas extremidades. Para isso usamos $S'_{3,0}(x_0) = f'(x_0) \\mbox{ e } S'_{3,n}(x_n) = f'(x_n)$ que irá fazer com que o primeiro e o ultimo sistema de sejam, respectivamente:\n",
        "\n",
        "$ z_02h_0 + z_1h_0 = 6(\\dfrac{(y_1 - y_0)}{h_0} - f'(x_0)) $\n",
        "\n",
        "$ z_{n-1}2h_{n-1} + z_nh_{n-1} = 6(f'(x_n) - \\dfrac{(y_n - y_{n-1})}{h_{n-1}}) $\n"
      ]
    },
    {
      "cell_type": "markdown",
      "metadata": {
        "id": "GrumaLiZLTyV"
      },
      "source": [
        "# **Spline Cúbica Natural**\n",
        "\n",
        "A seguir exibimos algumas substituições utilizadas para deixar a equação $(*)$ mas legível e em seguida montamos a forma matricial para a resolução das incógnitas $z_i$.\n",
        "\n",
        "Seja $u_i = 2(h_i + h_{i-1})$, $w_i = \\dfrac{6}{h_i}(y_{i+1} - y_i)$ e  $v_i = w_i - w_{i-1}$. Temos então que:\n",
        "\n",
        "\\begin{equation}\n",
        "z_{i-1}h_{i-1} + z_i(2h_{i-1} + 2h_i) + z_{i+1}h_i \n",
        "= \\dfrac{6(y_{i+1} - y_i)}{h_i} - \\dfrac{6(y_i - y_{i+1})}{h_{i-1}}\\\\\n",
        "\\Rightarrow z_{i-1}h_{i-1} + z_iu_i + z_{i+1}h_i = w_i - w_{i-1} \\\\\n",
        "\\Rightarrow z_{i-1}h_{i-1} + z_iu_i + z_{i+1}h_i = v_i\n",
        "\\end{equation}\n",
        "\n",
        "Gerando o seguinte sistema\n",
        "\\begin{equation}\n",
        "\\begin{pmatrix}\n",
        "u_1 & h_1 \\\\\n",
        "h_1 & u_2 & h_2 \\\\\n",
        "    & \\vdots & \\vdots & \\vdots \\\\\n",
        "    &     & h_{n-3} & u_{n-2} & h_{n-2} \\\\\n",
        "    &     &         & h_{n-2} & u_{n-1}  \\\\\n",
        "\\end{pmatrix}\n",
        ". \n",
        "\\begin{pmatrix}\n",
        "z_1 \\\\\n",
        "z_1 \\\\\n",
        "\\vdots \\\\\n",
        "z_{n-2} \\\\\n",
        "z_{n-1} \\\\\n",
        "\\end{pmatrix}\n",
        "=\n",
        "\\begin{pmatrix}\n",
        "v_1 \\\\\n",
        "v_1 \\\\\n",
        "\\vdots \\\\\n",
        "v_{n-2} \\\\\n",
        "v_{n-1} \\\\\n",
        "\\end{pmatrix}\n",
        "\\end{equation}"
      ]
    },
    {
      "cell_type": "markdown",
      "metadata": {
        "id": "IdMl7xECpscr"
      },
      "source": [
        "Por fim, abaixo temos uma implementação das Splines Cúbicas."
      ]
    },
    {
      "cell_type": "code",
      "metadata": {
        "id": "WlrhWh2bdRdb"
      },
      "source": [
        "def get_y_spline_cubica(segs, x):\n",
        "  i = 0\n",
        "  y = []\n",
        "  for k in range(0, len(x)):\n",
        "    while (i < len(segs)-1) and (x[k] > segs[i]['x_max']):\n",
        "      i += 1\n",
        "    xi = segs[i]['x_min']\n",
        "    c  = segs[i]['coefs']\n",
        "    y.append( c[0]*(x[k] - xi)**3 + c[1]*(x[k] - xi)**2 + c[2]*(x[k] - xi) + c[3])\n",
        "  return np.array(y)\n",
        "\n",
        "def spline_cubica(xi,yi):\n",
        "  n = len(xi)\n",
        "\n",
        "  # Encontrando os hi e ui\n",
        "  hi = xi[1:] - xi[:-1]\n",
        "  ui = 2 * (hi[1:] + hi[:-1])\n",
        "\n",
        "  # Encontrado os vi que dependem de wi\n",
        "  wi = 6 * (yi[1:] - yi[:-1]) / hi\n",
        "  vi = (wi[1:] - wi[0:-1])\n",
        "\n",
        "  # Montando a matriz com a 3 diagonais valendo ui e hi\n",
        "  UH = np.zeros((n-2,n-2))\n",
        "  np.fill_diagonal(UH, ui) # Preenchendo a diagonal\n",
        "  np.fill_diagonal(UH[1:,:-1],hi) # Diagonal inferior\n",
        "  np.fill_diagonal(UH[:-1,1:],hi) # Diagonal superior\n",
        "\n",
        "  # Encontrando os valores de zi\n",
        "  zi = np.zeros(n)\n",
        "  zi[1:-1] = np.linalg.solve(UH, vi)\n",
        "\n",
        "  # Por fim, motamos os segmentos\n",
        "  segs = []\n",
        "  for i in range(0,n-1):\n",
        "    ai = (zi[i+1] - zi[i]) / (6* hi[i])\n",
        "    bi =  zi[i]/2\n",
        "    ci = ((yi[i+1] - yi[i])/hi[i]) - (hi[i] * zi[i+1] / 6) -  (hi[i] * zi[i] / 3)\n",
        "    di = yi[i]\n",
        "    segs.append({\n",
        "        'x_min': xi[i],\n",
        "        'x_max': xi[i+1],\n",
        "        'coefs': [ai,bi,ci,di],\n",
        "    })\n",
        "  \n",
        "  return segs"
      ],
      "execution_count": null,
      "outputs": []
    },
    {
      "cell_type": "markdown",
      "metadata": {
        "id": "TC6w9aDjp_O1"
      },
      "source": [
        "Para fechar nosso último exemplo, vamos fazer a interpolação cúbica dos dados da ibovespa que utilizamos anteriormente e visualizar o spline resultante."
      ]
    },
    {
      "cell_type": "code",
      "metadata": {
        "id": "mCKH7HGiIO59",
        "outputId": "c2406c1e-2f0c-41b9-f555-a68f1dacc5ee",
        "colab": {
          "base_uri": "https://localhost:8080/",
          "height": 285
        }
      },
      "source": [
        "# Dados de Fechamento da Bovespa\n",
        "y = list(dados_bovespa['Fechamento'])\n",
        "y.reverse()\n",
        "for i in range(0,len(y)):\n",
        "  y[i] = float(y[i].replace('.','').replace(',','.'))\n",
        "x = np.linspace(1, len(y), len(y))\n",
        "y = np.array(y)\n",
        "\n",
        "# Fazendo o Spline Cúbico\n",
        "segs = spline_cubica(x,y)\n",
        "x_pred = np.linspace(1,len(y),100)\n",
        "y_pred = get_y_spline_cubica(segs,x_pred)\n",
        "\n",
        "plt.plot(x_pred,y_pred, 'r')\n",
        "plt.plot(x,y, 'bo', alpha=0.3)"
      ],
      "execution_count": null,
      "outputs": [
        {
          "output_type": "execute_result",
          "data": {
            "text/plain": [
              "[<matplotlib.lines.Line2D at 0x7fe3d20742b0>]"
            ]
          },
          "metadata": {
            "tags": []
          },
          "execution_count": 69
        },
        {
          "output_type": "display_data",
          "data": {
            "image/png": "[encoded data removed]",
            "text/plain": [
              "<Figure size 432x288 with 1 Axes>"
            ]
          },
          "metadata": {
            "tags": [],
            "needs_background": "light"
          }
        }
      ]
    },
    {
      "cell_type": "markdown",
      "metadata": {
        "id": "0yE9ZbU5qK4L"
      },
      "source": [
        "Como podemos ver, a reta formada passa por todos os pontos e é suave, dando a impressão de ser uma única função contínua devido ás condições impostas desde sua criação."
      ]
    },
    {
      "cell_type": "markdown",
      "metadata": {
        "id": "Qq8O0xpoqe47"
      },
      "source": [
        "# **Conclusões**\n",
        "\n",
        "Neste relatório revisitamos alguns dos métodos que foram vistos em sala de aula e nos aprofundamos no método de interpolação utilizando Splines lineares e cúbicos."
      ]
    }
  ]
}