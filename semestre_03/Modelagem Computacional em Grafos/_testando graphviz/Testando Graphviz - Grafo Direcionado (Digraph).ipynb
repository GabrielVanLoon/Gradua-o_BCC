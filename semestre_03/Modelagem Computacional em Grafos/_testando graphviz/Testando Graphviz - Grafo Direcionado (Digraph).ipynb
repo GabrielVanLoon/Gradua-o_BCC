{
 "cells": [
  {
   "cell_type": "markdown",
   "metadata": {},
   "source": [
    "**Utilizando Digraph**\n",
    "\n",
    "A biblioteca Graph gera um grafo cujas arestas são direcionadas, sendo assim necessário primeiro declarar quais serão os vértices do mesmo para, em seguida, gerar as arestas."
   ]
  },
  {
   "cell_type": "code",
   "execution_count": 1,
   "metadata": {},
   "outputs": [],
   "source": [
    "from graphviz import Digraph"
   ]
  },
  {
   "cell_type": "code",
   "execution_count": 2,
   "metadata": {},
   "outputs": [],
   "source": [
    "# Estânciando um objeto do tipo Digraph()\n",
    "grf = Digraph(name=\"Mapa do ICMC\", comment='Grafo de teste do mapa do ICMC', filename=\"Grafo_Mapa_ICMC.gv\", \n",
    "              format=\"pdf\")"
   ]
  },
  {
   "cell_type": "code",
   "execution_count": 6,
   "metadata": {},
   "outputs": [],
   "source": [
    "# Inserindo os Vértices/Nós com node(name, label, attrs)\n",
    "grf.node('V01', label='Jardim Secreto')\n",
    "grf.node('V02', label='Bloco 3')\n",
    "grf.node('V03', label='Bloco 4')\n",
    "grf.node('V04', label='Biblioteca')\n",
    "grf.node('V05', label='Cantina')\n",
    "grf.node('V06', label='Praça das Bandeiras')\n",
    "grf.node('V07', label='Bloco 1')\n",
    "grf.node('V08', label='Bloco 6')\n",
    "grf.node('V09', label='Bloco 5')\n",
    "grf.node('V10', label='Estacionamento')\n",
    "grf.node('V11', label='Entrada')\n",
    "grf.node('V12', label='Clube São Carlos')"
   ]
  },
  {
   "cell_type": "code",
   "execution_count": 7,
   "metadata": {},
   "outputs": [],
   "source": [
    "# Inserido as arestas\n",
    "grf.edge('V01', 'V02')\n",
    "grf.edge('V01', 'V03')\n",
    "\n",
    "grf.edge('V02', 'V03')\n",
    "grf.edge('V02', 'V04')\n",
    "\n",
    "grf.edge('V03', 'V05')\n",
    "grf.edge('V03', 'V10')\n",
    "\n",
    "grf.edge('V04', 'V05')\n",
    "grf.edge('V04', 'V06')\n",
    "\n",
    "grf.edge('V05', 'V06')\n",
    "\n",
    "grf.edge('V06', 'V07')\n",
    "grf.edge('V06', 'V08')\n",
    "grf.edge('V06', 'V09')\n",
    "\n",
    "grf.edge('V08', 'V09')\n",
    "grf.edge('V08', 'V11')\n",
    "\n",
    "grf.edge('V09', 'V11')\n",
    "\n",
    "grf.edge('V11', 'V10')"
   ]
  },
  {
   "cell_type": "code",
   "execution_count": 32,
   "metadata": {},
   "outputs": [
    {
     "name": "stdout",
     "output_type": "stream",
     "text": [
      "// Grafo de teste do mapa do ICMC\n",
      "digraph \"Mapa do ICMC\" {\n",
      "\tV01 [label=\"Jardim Secreto\"]\n",
      "\tV02 [label=\"Bloco 3\"]\n",
      "\tV03 [label=\"Bloco 4\"]\n",
      "\tV04 [label=Biblioteca]\n",
      "\tV05 [label=Cantina]\n",
      "\tV06 [label=\"Praça das Bandeiras\"]\n",
      "\tV07 [label=\"Bloco 1\"]\n",
      "\tV08 [label=\"Bloco 6\"]\n",
      "\tV09 [label=\"Bloco 5\"]\n",
      "\tV10 [label=Estacionamento]\n",
      "\tV11 [label=Entrada]\n",
      "\tV12 [label=\"Clube São Carlos\"]\n",
      "\tV01 -> V02\n",
      "\tV01 -> V03\n",
      "\tV02 -> V03\n",
      "\tV02 -> V04\n",
      "\tV03 -> V05\n",
      "\tV04 -> V05\n",
      "\tV04 -> V06\n",
      "\tV05 -> V06\n",
      "\tV06 -> V07\n",
      "\tV06 -> V08\n",
      "\tV06 -> V09\n",
      "\tV08 -> V09\n",
      "\tV08 -> V11\n",
      "\tV09 -> V11\n",
      "\tV11 -> V10\n",
      "}\n"
     ]
    }
   ],
   "source": [
    "# Verificar o conteúdo do arquivo .gv\n",
    "print(grf.source)"
   ]
  },
  {
   "cell_type": "code",
   "execution_count": 5,
   "metadata": {},
   "outputs": [],
   "source": [
    "# Resetando as arestase os vertices\n",
    "grf.clear()"
   ]
  },
  {
   "cell_type": "code",
   "execution_count": 8,
   "metadata": {},
   "outputs": [
    {
     "data": {
      "text/plain": [
       "'Grafo_Mapa_ICMC.gv.pdf'"
      ]
     },
     "execution_count": 8,
     "metadata": {},
     "output_type": "execute_result"
    }
   ],
   "source": [
    "# Visualizando o grafo gerado\n",
    "grf.view()"
   ]
  },
  {
   "cell_type": "code",
   "execution_count": null,
   "metadata": {},
   "outputs": [],
   "source": []
  },
  {
   "cell_type": "raw",
   "metadata": {},
   "source": []
  }
 ],
 "metadata": {
  "kernelspec": {
   "display_name": "Python 3",
   "language": "python",
   "name": "python3"
  },
  "language_info": {
   "codemirror_mode": {
    "name": "ipython",
    "version": 3
   },
   "file_extension": ".py",
   "mimetype": "text/x-python",
   "name": "python",
   "nbconvert_exporter": "python",
   "pygments_lexer": "ipython3",
   "version": "3.7.1"
  }
 },
 "nbformat": 4,
 "nbformat_minor": 2
}
